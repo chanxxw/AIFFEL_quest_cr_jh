{
  "nbformat": 4,
  "nbformat_minor": 0,
  "metadata": {
    "colab": {
      "provenance": [],
      "authorship_tag": "ABX9TyOydo4+9Rbo09/m3u5xVbe5",
      "include_colab_link": true
    },
    "kernelspec": {
      "name": "python3",
      "display_name": "Python 3"
    },
    "language_info": {
      "name": "python"
    }
  },
  "cells": [
    {
      "cell_type": "markdown",
      "metadata": {
        "id": "view-in-github",
        "colab_type": "text"
      },
      "source": [
        "<a href=\"https://colab.research.google.com/github/w15d0177/AIFFEL_quest_cr/blob/main/Exploration/Quest04/fashion_mnist_node_practice.ipynb\" target=\"_parent\"><img src=\"https://colab.research.google.com/assets/colab-badge.svg\" alt=\"Open In Colab\"/></a>"
      ]
    },
    {
      "cell_type": "code",
      "execution_count": null,
      "metadata": {
        "id": "VMk1k3zXQaj1"
      },
      "outputs": [],
      "source": [
        "import os\n",
        "import glob\n",
        "import time\n",
        "\n",
        "import PIL\n",
        "import imageio\n",
        "import numpy as np\n",
        "import tensorflow as tf\n",
        "from tensorflow.keras import layers\n",
        "from IPython import display\n",
        "import matplotlib.pyplot as plt\n",
        "%matplotlib inline\n",
        "\n",
        "print(\"tensorflow\", tf.__version__)"
      ]
    },
    {
      "cell_type": "code",
      "source": [
        "fashion_mnist = tf.keras.datasets.fashion_mnist\n",
        "\n",
        "(train_x, _), (test_x, _) = fashion_mnist.load_data()"
      ],
      "metadata": {
        "id": "U_JFdYnbRBYh"
      },
      "execution_count": null,
      "outputs": []
    },
    {
      "cell_type": "code",
      "source": [
        "print(\"max pixel:\", train_x.max())\n",
        "print(\"min pixel:\", train_x.min())"
      ],
      "metadata": {
        "id": "qODLnMHgRFwK"
      },
      "execution_count": null,
      "outputs": []
    },
    {
      "cell_type": "code",
      "source": [
        "# 데이터를 float32로 변환 후 정규화\n",
        "train_x = (train_x.astype('float32') - 127.5) / 127.5\n",
        "\n",
        "print(\"max pixel:\", train_x.max())\n",
        "print(\"min pixel:\", train_x.min())"
      ],
      "metadata": {
        "id": "jbJf9S0rRJfC"
      },
      "execution_count": null,
      "outputs": []
    },
    {
      "cell_type": "code",
      "source": [
        "train_x.shape"
      ],
      "metadata": {
        "id": "Z_PjDp0cRKsQ"
      },
      "execution_count": null,
      "outputs": []
    },
    {
      "cell_type": "code",
      "source": [
        "train_x = train_x.reshape(train_x.shape[0], 28, 28, 1).astype('float32')\n",
        "train_x.shape"
      ],
      "metadata": {
        "id": "-sXNtCb5RRod"
      },
      "execution_count": null,
      "outputs": []
    },
    {
      "cell_type": "code",
      "source": [
        "plt.imshow(train_x[0].reshape(28, 28), cmap='gray')\n",
        "plt.colorbar()\n",
        "plt.show()"
      ],
      "metadata": {
        "id": "TblRXx1jRWF_"
      },
      "execution_count": null,
      "outputs": []
    },
    {
      "cell_type": "code",
      "source": [
        "plt.figure(figsize=(20, 5))\n",
        "\n",
        "for i in range(10):\n",
        "    plt.subplot(2, 5, i+1)\n",
        "    plt.imshow(train_x[i].reshape(28, 28), cmap='gray')\n",
        "    plt.title(f'index: {i}')\n",
        "    plt.axis('off')\n",
        "plt.show()"
      ],
      "metadata": {
        "id": "0WYpypTTRaTd"
      },
      "execution_count": null,
      "outputs": []
    },
    {
      "cell_type": "code",
      "source": [
        "plt.figure(figsize=(10, 12))\n",
        "\n",
        "'''\n",
        "for i in range(25):\n",
        "    # 랜덤한 인덱스 선택\n",
        "    random_index = np.random.randint(0, train_x.shape[0])\n",
        "    random_image = train_x[random_index]\n",
        "\n",
        "    # 서브플롯에 이미지 추가\n",
        "    plt.subplot(5, 5, i + 1)\n",
        "    plt.imshow(random_image, cmap='gray')\n",
        "    plt.axis('off')  # 축 제거\n",
        "'''\n",
        "\n",
        "for i in range(25):\n",
        "    plt.subplot(5, 5, i+1)\n",
        "    random_index = np.random.randint(1, 60000)\n",
        "    plt.imshow(train_x[random_index].reshape(28, 28), cmap='gray')\n",
        "    plt.title(f'index: {random_index}')\n",
        "    plt.axis('off')\n",
        "\n",
        "\n",
        "\n",
        "plt.show()"
      ],
      "metadata": {
        "id": "yZxLkXg-RfQW"
      },
      "execution_count": null,
      "outputs": []
    },
    {
      "cell_type": "code",
      "source": [
        "BUFFER_SIZE = 60000\n",
        "BATCH_SIZE = 256"
      ],
      "metadata": {
        "id": "Hv0RM-MsRjfy"
      },
      "execution_count": null,
      "outputs": []
    },
    {
      "cell_type": "code",
      "source": [
        "train_dataset = tf.data.Dataset.from_tensor_slices(train_x).shuffle(BUFFER_SIZE).batch(BATCH_SIZE)"
      ],
      "metadata": {
        "id": "cyFzfzzmRnUi"
      },
      "execution_count": null,
      "outputs": []
    },
    {
      "cell_type": "code",
      "source": [
        "'''\n",
        "def make_generator_model():\n",
        "\n",
        "    # Start\n",
        "    model = tf.keras.Sequential()\n",
        "\n",
        "    # First: Dense layer\n",
        "\t\t# units은 7x7x256, 편향은 사용하지 않음, 입력 값의 크기는 100차원 벡터\n",
        "\t\t# [[YOUR CODE]]\n",
        "\t\t# 배치 정규화 사용\n",
        "\t\t# [[YOUR CODE]]\n",
        "\t\t# LeakyReLU 활성화 함수 사용\n",
        "\t\t# [[YOUR CODE]]\n",
        "\n",
        "    # Second: Reshape layer\n",
        "    model.add(layers.Reshape((7, 7, 256)))\n",
        "\n",
        "    # Third: Conv2DTranspose layer\n",
        "\t\t# 커널 크기는 5, stride는 1, 패딩은 사용, 편향은 사용하지 않음\n",
        "\t\t# [[YOUR CODE]]\n",
        "\t\t# 배치 정규화 사용\n",
        "\t\t# [[YOUR CODE]]\n",
        "\t\t# LeakyReLU 활성화 함수 사용\n",
        "\t\t# [[YOUR CODE]]\n",
        "\n",
        "    # Fourth: Conv2DTranspose layer\n",
        "\t\t# 커널 크기는 5, stride는 2, 패딩은 사용, 편향은 사용하지 않음\n",
        "\t\t# [[YOUR CODE]]\n",
        "\t\t# 배치 정규화 사용\n",
        "\t\t# [[YOUR CODE]]\n",
        "\t\t# LeakyReLU 활성화 함수 사용\n",
        "\t\t# [[YOUR CODE]]\n",
        "\n",
        "    # Fifth: Conv2DTranspose layer\n",
        "    model.add(layers.Conv2DTranspose(1, kernel_size=(5, 5), strides=(2, 2), padding='same', use_bias=False, \\\n",
        "                                     activation='tanh'))\n",
        "\n",
        "    return model\n",
        "\t'''\n",
        "\n",
        "\n",
        "\n",
        "def make_generator_model():\n",
        "    # Start\n",
        "    model = tf.keras.Sequential()\n",
        "\n",
        "    # First: Dense layer\n",
        "    model.add(layers.Dense(units=7 * 7 * 256, use_bias=False, input_shape=(100,)))\n",
        "    model.add(layers.BatchNormalization())\n",
        "    model.add(layers.LeakyReLU())\n",
        "\n",
        "    # Second: Reshape layer\n",
        "    model.add(layers.Reshape((7, 7, 256)))\n",
        "\n",
        "    # Third: Conv2DTranspose layer\n",
        "    model.add(layers.Conv2DTranspose(128, kernel_size=(5, 5), strides=(1, 1), padding='same', use_bias=False))\n",
        "    model.add(layers.BatchNormalization())\n",
        "    model.add(layers.LeakyReLU())\n",
        "\n",
        "    # Fourth: Conv2DTranspose layer\n",
        "    model.add(layers.Conv2DTranspose(64, kernel_size=(5, 5), strides=(2, 2), padding='same', use_bias=False))\n",
        "    model.add(layers.BatchNormalization())\n",
        "    model.add(layers.LeakyReLU())\n",
        "\n",
        "    # Fifth: Conv2DTranspose layer\n",
        "    model.add(layers.Conv2DTranspose(1, kernel_size=(5, 5), strides=(2, 2), padding='same', use_bias=False, \\\n",
        "                                     activation='tanh'))\n",
        "\n",
        "    return model\n",
        "\n",
        "\n"
      ],
      "metadata": {
        "id": "-9wMrw-BRuYD"
      },
      "execution_count": null,
      "outputs": []
    },
    {
      "cell_type": "code",
      "source": [
        "generator = make_generator_model()\n",
        "\n",
        "generator.summary()"
      ],
      "metadata": {
        "id": "Qi9shFiMRzyN"
      },
      "execution_count": null,
      "outputs": []
    },
    {
      "cell_type": "code",
      "source": [
        "noise = tf.random.normal([1, 100])"
      ],
      "metadata": {
        "id": "LNiU3z1qR7Q6"
      },
      "execution_count": null,
      "outputs": []
    },
    {
      "cell_type": "code",
      "source": [
        "generated_image = generator(noise, training=False)\n",
        "generated_image.shape"
      ],
      "metadata": {
        "id": "Y-zoIupbR_Dp"
      },
      "execution_count": null,
      "outputs": []
    },
    {
      "cell_type": "code",
      "source": [
        "plt.imshow(generated_image[0, :, :, 0], cmap='gray')\n",
        "plt.colorbar()\n",
        "plt.show()"
      ],
      "metadata": {
        "id": "1vKn78a9SExg"
      },
      "execution_count": null,
      "outputs": []
    },
    {
      "cell_type": "code",
      "source": [
        "'''\n",
        "def make_discriminator_model():\n",
        "\n",
        "    # Start\n",
        "    model = tf.keras.Sequential()\n",
        "\n",
        "    # First: Conv2D Layer\n",
        "    # 필터의 크기는 5이며 64개 사용, stride는 2, 패딩은 사용, 입력 값의 크기는 준비된 흑백 사진\n",
        "    # [[YOUR CODE]]\n",
        "    # LeakyReLU 활성화 함수 사용\n",
        "    # [[YOUR CODE]]\n",
        "    # Dropout은 0.3을 사용\n",
        "    # [[YOUR CODE]]\n",
        "\n",
        "    # Second: Conv2D Layer\n",
        "    # 필터의 크기는 5이며 128개 사용, stride는 2, 패딩은 사용\n",
        "    # [[YOUR CODE]]\n",
        "    # LeakyReLU 활성화 함수 사용\n",
        "    # [[YOUR CODE]]\n",
        "    # Dropout은 0.3을 사용\n",
        "    # [[YOUR CODE]]\n",
        "\n",
        "    # Third: Flatten Layer\n",
        "    model.add(layers.Flatten())\n",
        "\n",
        "    # Fourth: Dense Layer\n",
        "    model.add(layers.Dense(1))\n",
        "\n",
        "    return model\n",
        "    '''\n",
        "\n",
        "\n",
        "import tensorflow as tf\n",
        "from tensorflow.keras import layers\n",
        "\n",
        "def make_discriminator_model():\n",
        "    # Start\n",
        "    model = tf.keras.Sequential()\n",
        "\n",
        "    # First: Conv2D Layer\n",
        "    model.add(layers.Conv2D(64, kernel_size=(5, 5), strides=(2, 2), padding='same', input_shape=(28, 28, 1)))\n",
        "    model.add(layers.LeakyReLU())\n",
        "    model.add(layers.Dropout(0.3))\n",
        "\n",
        "    # Second: Conv2D Layer\n",
        "    model.add(layers.Conv2D(128, kernel_size=(5, 5), strides=(2, 2), padding='same'))\n",
        "    model.add(layers.LeakyReLU())\n",
        "    model.add(layers.Dropout(0.3))\n",
        "\n",
        "    # Third: Flatten Layer\n",
        "    model.add(layers.Flatten())\n",
        "\n",
        "    # Fourth: Dense Layer\n",
        "    model.add(layers.Dense(1))\n",
        "\n",
        "    return model\n",
        "\n"
      ],
      "metadata": {
        "id": "uGCQfyiYSJ_A"
      },
      "execution_count": null,
      "outputs": []
    },
    {
      "cell_type": "code",
      "source": [
        "discriminator = make_discriminator_model()\n",
        "\n",
        "discriminator.summary()"
      ],
      "metadata": {
        "id": "Kt9_nrBBSOhU"
      },
      "execution_count": null,
      "outputs": []
    },
    {
      "cell_type": "code",
      "source": [
        "decision = discriminator(generated_image, training=False)\n",
        "decision"
      ],
      "metadata": {
        "id": "fVDf1nZaSSaA"
      },
      "execution_count": null,
      "outputs": []
    },
    {
      "cell_type": "code",
      "source": [
        "cross_entropy = tf.keras.losses.BinaryCrossentropy(from_logits=True)"
      ],
      "metadata": {
        "id": "mlFugEMPSXY3"
      },
      "execution_count": null,
      "outputs": []
    },
    {
      "cell_type": "code",
      "source": [
        "vector = [[1, 2, 3],\n",
        "          [4, 5, 6]]\n",
        "\n",
        "tf.ones_like(vector)"
      ],
      "metadata": {
        "id": "ZW0a2bwVSbcH"
      },
      "execution_count": null,
      "outputs": []
    },
    {
      "cell_type": "code",
      "source": [
        "def generator_loss(fake_output):\n",
        "    return cross_entropy(tf.ones_like(fake_output), fake_output)"
      ],
      "metadata": {
        "id": "kuofgmBqSfKH"
      },
      "execution_count": null,
      "outputs": []
    },
    {
      "cell_type": "code",
      "source": [
        "'''\n",
        "def discriminator_loss(real_output, fake_output):\n",
        "    # 손실함수는 cross entropy를 사용, ones_like를 활용\n",
        "    real_loss = # [[YOUR CODE]]\n",
        "    # 손실함수는 cross entropy를 사용, zeros_like를 활용\n",
        "    fake_loss = # [[YOUR CODE]]\n",
        "    # real_loss와 fake_loss를 더한 값\n",
        "    total_loss = # [[YOUR CODE]]\n",
        "    return total_loss\n",
        "'''\n",
        "\n",
        "\n",
        "def discriminator_loss(real_output, fake_output):\n",
        "    # 손실함수는 cross entropy를 사용, ones_like를 활용\n",
        "    real_loss = tf.keras.losses.BinaryCrossentropy(from_logits=True)(tf.ones_like(real_output), real_output)\n",
        "    # 손실함수는 cross entropy를 사용, zeros_like를 활용\n",
        "    fake_loss = tf.keras.losses.BinaryCrossentropy(from_logits=True)(tf.zeros_like(fake_output), fake_output)\n",
        "    # real_loss와 fake_loss를 더한 값\n",
        "    total_loss = real_loss + fake_loss\n",
        "    return total_loss\n"
      ],
      "metadata": {
        "id": "kncIyX0NSmE7"
      },
      "execution_count": null,
      "outputs": []
    },
    {
      "cell_type": "code",
      "source": [
        "def discriminator_accuracy(real_output, fake_output):\n",
        "    real_accuracy = tf.reduce_mean(tf.cast(tf.math.greater_equal(real_output, tf.constant([0.5])), tf.float32))\n",
        "    fake_accuracy = tf.reduce_mean(tf.cast(tf.math.less(fake_output, tf.constant([0.5])), tf.float32))\n",
        "    return real_accuracy, fake_accuracy"
      ],
      "metadata": {
        "id": "QRYv8H_fSrs3"
      },
      "execution_count": null,
      "outputs": []
    },
    {
      "cell_type": "code",
      "source": [
        "generator_optimizer = tf.keras.optimizers.Adam(1e-4)\n",
        "discriminator_optimizer = tf.keras.optimizers.Adam(1e-4)"
      ],
      "metadata": {
        "id": "l5QZhbmqSv86"
      },
      "execution_count": null,
      "outputs": []
    },
    {
      "cell_type": "code",
      "source": [
        "noise_dim = 100\n",
        "num_examples_to_generate = 16\n",
        "\n",
        "seed = tf.random.normal([num_examples_to_generate, noise_dim])\n",
        "seed.shape"
      ],
      "metadata": {
        "id": "e-Rf4_FnS2EA"
      },
      "execution_count": null,
      "outputs": []
    },
    {
      "cell_type": "code",
      "source": [
        "import numpy as np\n",
        "import tensorflow as tf\n",
        "\n",
        "def f(x, y):\n",
        "  print(type(x))\n",
        "  print(type(y))\n",
        "  return x ** 2 + y\n",
        "\n",
        "x = np.array([2, 3])\n",
        "y = np.array([3, -2])\n",
        "f(x, y)"
      ],
      "metadata": {
        "id": "Seir3AAfS7nd"
      },
      "execution_count": null,
      "outputs": []
    },
    {
      "cell_type": "code",
      "source": [
        "import numpy as np\n",
        "import tensorflow as tf\n",
        "\n",
        "@tf.function    # 위와 동일한 함수이지만 @tf.function 데코레이터가 적용되었습니다.\n",
        "def f(x, y):\n",
        "  print(type(x))\n",
        "  print(type(y))\n",
        "  return x ** 2 + y\n",
        "\n",
        "x = np.array([2, 3])\n",
        "y = np.array([3, -2])\n",
        "f(x, y)"
      ],
      "metadata": {
        "id": "8dEGij6OS_zQ"
      },
      "execution_count": null,
      "outputs": []
    },
    {
      "cell_type": "code",
      "source": [
        "@tf.function\n",
        "def train_step(images):  #(1) 입력데이터\n",
        "    noise = tf.random.normal([BATCH_SIZE, noise_dim])  #(2) 생성자 입력 노이즈\n",
        "\n",
        "    with tf.GradientTape() as gen_tape, tf.GradientTape() as disc_tape:  #(3) tf.GradientTape() 오픈\n",
        "        generated_images = generator(noise, training=True)  #(4) generated_images 생성\n",
        "\n",
        "        #(5) discriminator 판별\n",
        "        real_output = discriminator(images, training=True)\n",
        "        fake_output = discriminator(generated_images, training=True)  # [[YOUR CODE]]#  [[YOUR CODE]]\n",
        "\n",
        "        #(6) loss 계산\n",
        "        gen_loss = generator_loss(fake_output)\n",
        "        disc_loss = discriminator_loss(real_output, fake_output) # [[YOUR CODE]]\n",
        "\n",
        "        #(7) accuracy 계산\n",
        "        real_accuracy, fake_accuracy = discriminator_accuracy(real_output, fake_output)\n",
        "\n",
        "    #(8) gradient 계산\n",
        "    gradients_of_generator = gen_tape.gradient(gen_loss, generator.trainable_variables)\n",
        "    gradients_of_discriminator = disc_tape.gradient(disc_loss, discriminator.trainable_variables) # [[YOUR CODE]]\n",
        "\n",
        "    #(9) 모델 학습\n",
        "    generator_optimizer.apply_gradients(zip(gradients_of_generator, generator.trainable_variables))\n",
        "    discriminator_optimizer.apply_gradients(zip(gradients_of_discriminator, discriminator.trainable_variables)) # [[YOUR CODE]]\n",
        "\n",
        "    return gen_loss, disc_loss, real_accuracy, fake_accuracy  #(10) 리턴값"
      ],
      "metadata": {
        "id": "eLFCnp63Tlvf"
      },
      "execution_count": null,
      "outputs": []
    },
    {
      "cell_type": "code",
      "source": [
        "def generate_and_save_images(model, epoch, it, sample_seeds):\n",
        "\n",
        "    predictions = model(sample_seeds, training=False)\n",
        "\n",
        "    fig = plt.figure(figsize=(4, 4))\n",
        "    for i in range(predictions.shape[0]):\n",
        "        plt.subplot(4, 4, i+1)\n",
        "        plt.imshow(predictions[i, :, :, 0], cmap='gray')\n",
        "        plt.axis('off')\n",
        "\n",
        "    plt.savefig('{}/aiffel/dcgan_newimage/fashion/generated_samples/sample_epoch_{:04d}_iter_{:03d}.png'\n",
        "                    .format(os.getenv('HOME'), epoch, it))\n",
        "\n",
        "    plt.show()"
      ],
      "metadata": {
        "id": "ytaWVyXsTrpr"
      },
      "execution_count": null,
      "outputs": []
    },
    {
      "cell_type": "code",
      "source": [
        "from matplotlib.pylab import rcParams\n",
        "rcParams['figure.figsize'] = 15, 6    # matlab 차트의 기본 크기를 15,6으로 지정해 줍니다.\n",
        "\n",
        "def draw_train_history(history, epoch):\n",
        "    # summarize history for loss\n",
        "    plt.subplot(211)\n",
        "    plt.plot(history['gen_loss'])\n",
        "    plt.plot(history['disc_loss'])\n",
        "    plt.title('model loss')\n",
        "    plt.ylabel('loss')\n",
        "    plt.xlabel('batch iters')\n",
        "    plt.legend(['gen_loss', 'disc_loss'], loc='upper left')\n",
        "\n",
        "    # summarize history for accuracy\n",
        "    plt.subplot(212)\n",
        "    plt.plot(history['fake_accuracy'])\n",
        "    plt.plot(history['real_accuracy'])\n",
        "    plt.title('discriminator accuracy')\n",
        "    plt.ylabel('accuracy')\n",
        "    plt.xlabel('batch iters')\n",
        "    plt.legend(['fake_accuracy', 'real_accuracy'], loc='upper left')\n",
        "\n",
        "    # training_history 디렉토리에 epoch별로 그래프를 이미지 파일로 저장합니다.\n",
        "    plt.savefig('{}/aiffel/dcgan_newimage/fashion/training_history/train_history_{:04d}.png'\n",
        "                    .format(os.getenv('HOME'), epoch))\n",
        "    plt.show()"
      ],
      "metadata": {
        "id": "z03cFSmyTv6c"
      },
      "execution_count": null,
      "outputs": []
    },
    {
      "cell_type": "code",
      "source": [
        "checkpoint_dir = os.getenv('HOME')+'/aiffel/dcgan_newimage/fashion/training_checkpoints'\n",
        "\n",
        "checkpoint_prefix = os.path.join(checkpoint_dir, \"ckpt\")\n",
        "checkpoint = tf.train.Checkpoint(generator_optimizer=generator_optimizer,\n",
        "                                 discriminator_optimizer=discriminator_optimizer,\n",
        "                                 generator=generator,\n",
        "                                 discriminator=discriminator)"
      ],
      "metadata": {
        "id": "8NMtK1obT0Mk"
      },
      "execution_count": null,
      "outputs": []
    },
    {
      "cell_type": "code",
      "source": [
        "def train(dataset, epochs, save_every):\n",
        "    start = time.time()\n",
        "    history = {'gen_loss':[], 'disc_loss':[], 'real_accuracy':[], 'fake_accuracy':[]}\n",
        "\n",
        "    for epoch in range(epochs):\n",
        "        epoch_start = time.time()\n",
        "        for it, image_batch in enumerate(dataset):\n",
        "            gen_loss, disc_loss, real_accuracy, fake_accuracy = train_step(image_batch)\n",
        "            history['gen_loss'].append(gen_loss)\n",
        "            history['disc_loss'].append(disc_loss)\n",
        "            history['real_accuracy'].append(real_accuracy)\n",
        "            history['fake_accuracy'].append(fake_accuracy)\n",
        "\n",
        "            if it % 50 == 0:\n",
        "                display.clear_output(wait=True)\n",
        "                generate_and_save_images(generator, epoch+1, it+1, seed)\n",
        "                print('Epoch {} | iter {}'.format(epoch+1, it+1))\n",
        "                print('Time for epoch {} : {} sec'.format(epoch+1, int(time.time()-epoch_start)))\n",
        "\n",
        "        if (epoch + 1) % save_every == 0:\n",
        "            checkpoint.save(file_prefix=checkpoint_prefix)\n",
        "\n",
        "        display.clear_output(wait=True)\n",
        "        generate_and_save_images(generator, epochs, it, seed)\n",
        "        print('Time for training : {} sec'.format(int(time.time()-start)))\n",
        "\n",
        "        draw_train_history(history, epoch)"
      ],
      "metadata": {
        "id": "IlQsZc4JT5Jm"
      },
      "execution_count": null,
      "outputs": []
    },
    {
      "cell_type": "code",
      "source": [
        "save_every = 5\n",
        "EPOCHS = 50 # [[YOUR CODE]]\n",
        "\n",
        "# 사용가능한 GPU 디바이스 확인\n",
        "tf.config.list_physical_devices(\"GPU\")"
      ],
      "metadata": {
        "id": "DQ0GfNj6T-CW"
      },
      "execution_count": null,
      "outputs": []
    },
    {
      "cell_type": "code",
      "source": [
        "%%time\n",
        "train(train_dataset, EPOCHS, save_every)\n",
        "\n",
        "\n",
        "# 학습과정의 loss, accuracy 그래프 이미지 파일이 ~/aiffel/dcgan_newimage/fashion/training_history 경로에 생성되고 있으니 진행 과정을 수시로 확인해 보시길 권합니다.\n",
        "\n"
      ],
      "metadata": {
        "id": "gXS0Rd-iUHIp"
      },
      "execution_count": null,
      "outputs": []
    },
    {
      "cell_type": "code",
      "source": [
        "anim_file = os.getenv('HOME')+'/aiffel/dcgan_newimage/fashion/fashion_mnist_dcgan.gif'\n",
        "\n",
        "with imageio.get_writer(anim_file, mode='I') as writer:\n",
        "    filenames = glob.glob('{}/aiffel/dcgan_newimage/fashion/generated_samples/sample*.png'.format(os.getenv('HOME')))\n",
        "    filenames = sorted(filenames)\n",
        "    last = -1\n",
        "    for i, filename in enumerate(filenames):\n",
        "        frame = 2*(i**0.5)\n",
        "        if round(frame) > round(last):\n",
        "            last = frame\n",
        "        else:\n",
        "            continue\n",
        "        image = imageio.imread(filename)\n",
        "        writer.append_data(image)\n",
        "    image = imageio.imread(filename)\n",
        "    writer.append_data(image)\n",
        "\n",
        "!ls -l ~/aiffel/dcgan_newimage/fashion/fashion_mnist_dcgan.gif"
      ],
      "metadata": {
        "id": "KFziPjYAUc6t"
      },
      "execution_count": null,
      "outputs": []
    }
  ]
}