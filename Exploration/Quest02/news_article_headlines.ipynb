{
 "cells": [
  {
   "cell_type": "markdown",
   "id": "e34e3625",
   "metadata": {},
   "source": [
    "# 4-1. 프로젝트: 뉴스기사 요약해보기"
   ]
  },
  {
   "cell_type": "code",
   "execution_count": 2,
   "id": "47948df9",
   "metadata": {},
   "outputs": [
    {
     "name": "stdout",
     "output_type": "stream",
     "text": [
      "3.6.5\n",
      "2.6.0\n",
      "1.3.3\n",
      "1.2.0\n"
     ]
    }
   ],
   "source": [
    "from importlib.metadata import version\n",
    "import nltk\n",
    "import tensorflow\n",
    "import summa\n",
    "import pandas as pd\n",
    "\n",
    "print(nltk.__version__)\n",
    "print(tensorflow.__version__)\n",
    "print(pd.__version__)\n",
    "print(version('summa'))"
   ]
  },
  {
   "cell_type": "code",
   "execution_count": 3,
   "id": "a84f3650",
   "metadata": {},
   "outputs": [
    {
     "name": "stderr",
     "output_type": "stream",
     "text": [
      "[nltk_data] Downloading package stopwords to /aiffel/nltk_data...\n",
      "[nltk_data]   Package stopwords is already up-to-date!\n"
     ]
    }
   ],
   "source": [
    "import nltk\n",
    "nltk.download('stopwords')\n",
    "\n",
    "import numpy as np\n",
    "import pandas as pd\n",
    "import os\n",
    "import re\n",
    "import matplotlib.pyplot as plt\n",
    "from nltk.corpus import stopwords\n",
    "from bs4 import BeautifulSoup \n",
    "from tensorflow.keras.preprocessing.text import Tokenizer \n",
    "from tensorflow.keras.preprocessing.sequence import pad_sequences\n",
    "import urllib.request\n",
    "import warnings\n",
    "warnings.filterwarnings(\"ignore\", category=UserWarning, module='bs4')"
   ]
  },
  {
   "cell_type": "markdown",
   "id": "8cbff65b",
   "metadata": {},
   "source": [
    "## Step 1. 데이터 수집하기"
   ]
  },
  {
   "cell_type": "code",
   "execution_count": 5,
   "id": "7dbb9472",
   "metadata": {},
   "outputs": [],
   "source": [
    "# 뉸스 기사 데이터 다운로드\n",
    "import urllib.request\n",
    "urllib.request.urlretrieve(\"https://raw.githubusercontent.com/sunnysai12345/News_Summary/master/news_summary_more.csv\", filename=\"news_summary_more.csv\")\n",
    "data = pd.read_csv('news_summary_more.csv', encoding='iso-8859-1')"
   ]
  },
  {
   "cell_type": "code",
   "execution_count": 6,
   "id": "4c25d644",
   "metadata": {},
   "outputs": [
    {
     "name": "stdout",
     "output_type": "stream",
     "text": [
      "전체 샘플 수 : 98401\n"
     ]
    }
   ],
   "source": [
    "print('전체 샘플 수 :', (len(data)))"
   ]
  },
  {
   "cell_type": "code",
   "execution_count": 7,
   "id": "8fcf6f0c",
   "metadata": {
    "scrolled": true
   },
   "outputs": [
    {
     "data": {
      "text/html": [
       "<div>\n",
       "<style scoped>\n",
       "    .dataframe tbody tr th:only-of-type {\n",
       "        vertical-align: middle;\n",
       "    }\n",
       "\n",
       "    .dataframe tbody tr th {\n",
       "        vertical-align: top;\n",
       "    }\n",
       "\n",
       "    .dataframe thead th {\n",
       "        text-align: right;\n",
       "    }\n",
       "</style>\n",
       "<table border=\"1\" class=\"dataframe\">\n",
       "  <thead>\n",
       "    <tr style=\"text-align: right;\">\n",
       "      <th></th>\n",
       "      <th>headlines</th>\n",
       "      <th>text</th>\n",
       "    </tr>\n",
       "  </thead>\n",
       "  <tbody>\n",
       "    <tr>\n",
       "      <th>55541</th>\n",
       "      <td>VHP demands sweater, heater for 'Ram Lalla' in...</td>\n",
       "      <td>Vishva Hindu Parishad (VHP) has requested the ...</td>\n",
       "    </tr>\n",
       "    <tr>\n",
       "      <th>2114</th>\n",
       "      <td>India crash out of Asian Cup after Bahrain sco...</td>\n",
       "      <td>Indian football team crashed out of Asian Cup ...</td>\n",
       "    </tr>\n",
       "    <tr>\n",
       "      <th>47483</th>\n",
       "      <td>When Kohli gets into 90s, 90s get nervous, twe...</td>\n",
       "      <td>Reacting to Indian captain Virat Kohli's 35th ...</td>\n",
       "    </tr>\n",
       "    <tr>\n",
       "      <th>1390</th>\n",
       "      <td>WWE's Heyman criticises ICC for 'using' his ca...</td>\n",
       "      <td>WWE's Paul Heyman, the manager of Brock Lesnar...</td>\n",
       "    </tr>\n",
       "    <tr>\n",
       "      <th>77620</th>\n",
       "      <td>20 killed, 30 injured in explosion at Afghan m...</td>\n",
       "      <td>At least 20 people have been killed and 30 oth...</td>\n",
       "    </tr>\n",
       "    <tr>\n",
       "      <th>33847</th>\n",
       "      <td>Incentivise states working to expand green cov...</td>\n",
       "      <td>Vice President Venkaiah Naidu has said that th...</td>\n",
       "    </tr>\n",
       "    <tr>\n",
       "      <th>24498</th>\n",
       "      <td>Will support whoever defeats BJP, RSS: Rahul G...</td>\n",
       "      <td>Asked if he would support TMC chief Mamata Ban...</td>\n",
       "    </tr>\n",
       "    <tr>\n",
       "      <th>57653</th>\n",
       "      <td>Supermoon, Cyclone Ockhi damaged Goa's coast: ...</td>\n",
       "      <td>Goa Chief Minister Manohar Parrikar on Wednesd...</td>\n",
       "    </tr>\n",
       "    <tr>\n",
       "      <th>79873</th>\n",
       "      <td>Mumbai man arrested for stealing data from a d...</td>\n",
       "      <td>The Mumbai police on Monday arrested a 60-year...</td>\n",
       "    </tr>\n",
       "    <tr>\n",
       "      <th>63475</th>\n",
       "      <td>People said it is absurd: Ex-Apple CEO on 1987...</td>\n",
       "      <td>Former Apple CEO John Sculley has revealed tha...</td>\n",
       "    </tr>\n",
       "  </tbody>\n",
       "</table>\n",
       "</div>"
      ],
      "text/plain": [
       "                                               headlines  \\\n",
       "55541  VHP demands sweater, heater for 'Ram Lalla' in...   \n",
       "2114   India crash out of Asian Cup after Bahrain sco...   \n",
       "47483  When Kohli gets into 90s, 90s get nervous, twe...   \n",
       "1390   WWE's Heyman criticises ICC for 'using' his ca...   \n",
       "77620  20 killed, 30 injured in explosion at Afghan m...   \n",
       "33847  Incentivise states working to expand green cov...   \n",
       "24498  Will support whoever defeats BJP, RSS: Rahul G...   \n",
       "57653  Supermoon, Cyclone Ockhi damaged Goa's coast: ...   \n",
       "79873  Mumbai man arrested for stealing data from a d...   \n",
       "63475  People said it is absurd: Ex-Apple CEO on 1987...   \n",
       "\n",
       "                                                    text  \n",
       "55541  Vishva Hindu Parishad (VHP) has requested the ...  \n",
       "2114   Indian football team crashed out of Asian Cup ...  \n",
       "47483  Reacting to Indian captain Virat Kohli's 35th ...  \n",
       "1390   WWE's Paul Heyman, the manager of Brock Lesnar...  \n",
       "77620  At least 20 people have been killed and 30 oth...  \n",
       "33847  Vice President Venkaiah Naidu has said that th...  \n",
       "24498  Asked if he would support TMC chief Mamata Ban...  \n",
       "57653  Goa Chief Minister Manohar Parrikar on Wednesd...  \n",
       "79873  The Mumbai police on Monday arrested a 60-year...  \n",
       "63475  Former Apple CEO John Sculley has revealed tha...  "
      ]
     },
     "execution_count": 7,
     "metadata": {},
     "output_type": "execute_result"
    }
   ],
   "source": [
    "data.sample(10)"
   ]
  },
  {
   "cell_type": "markdown",
   "id": "3f628fc3",
   "metadata": {},
   "source": [
    "## Step 2. 데이터 전처리하기 (추상적 요약)"
   ]
  },
  {
   "cell_type": "markdown",
   "id": "2b67b647",
   "metadata": {},
   "source": [
    "### (1) 데이터 정리하기"
   ]
  },
  {
   "cell_type": "markdown",
   "id": "0379dd9c",
   "metadata": {},
   "source": [
    "### 중복 샘플과 NULL 값이 존재하는 샘플 제거"
   ]
  },
  {
   "cell_type": "code",
   "execution_count": 8,
   "id": "312fdc52",
   "metadata": {},
   "outputs": [
    {
     "name": "stdout",
     "output_type": "stream",
     "text": [
      "text 열에서 중복을 배제한 유일한 샘플의 수 : 98360\n",
      "headlines 열에서 중복을 배제한 유일한 샘플의 수 : 98280\n"
     ]
    }
   ],
   "source": [
    "# 중복 샘플 유무 확인 \n",
    "print('text 열에서 중복을 배제한 유일한 샘플의 수 :', data['text'].nunique())\n",
    "print('headlines 열에서 중복을 배제한 유일한 샘플의 수 :', data['headlines'].nunique())"
   ]
  },
  {
   "cell_type": "code",
   "execution_count": 9,
   "id": "36e2624b",
   "metadata": {},
   "outputs": [
    {
     "name": "stdout",
     "output_type": "stream",
     "text": [
      "전체 샘플수 : 98360\n"
     ]
    }
   ],
   "source": [
    "# 중복 샘플 제거 \n",
    "# inplace=True 를 설정하면 DataFrame 타입 값을 return 하지 않고 data 내부를 직접적으로 바꿉니다\n",
    "data.drop_duplicates(subset = ['text'], inplace=True)\n",
    "print('전체 샘플수 :', (len(data)))"
   ]
  },
  {
   "cell_type": "code",
   "execution_count": 10,
   "id": "81fba112",
   "metadata": {},
   "outputs": [
    {
     "name": "stdout",
     "output_type": "stream",
     "text": [
      "headlines    0\n",
      "text         0\n",
      "dtype: int64\n"
     ]
    }
   ],
   "source": [
    "# null 값 확인 \n",
    "print(data.isnull().sum())"
   ]
  },
  {
   "cell_type": "markdown",
   "id": "0fb5d30c",
   "metadata": {},
   "source": [
    "### 텍스트 정규화와 불용어 제거"
   ]
  },
  {
   "cell_type": "code",
   "execution_count": 11,
   "id": "7b3df286",
   "metadata": {},
   "outputs": [
    {
     "name": "stdout",
     "output_type": "stream",
     "text": [
      "정규화 사전의 수:  120\n"
     ]
    }
   ],
   "source": [
    "# 텍스트 정규화 사전 \n",
    "contractions = {\"ain't\": \"is not\", \"aren't\": \"are not\",\"can't\": \"cannot\", \"'cause\": \"because\", \"could've\": \"could have\", \"couldn't\": \"could not\",\n",
    "                           \"didn't\": \"did not\",  \"doesn't\": \"does not\", \"don't\": \"do not\", \"hadn't\": \"had not\", \"hasn't\": \"has not\", \"haven't\": \"have not\",\n",
    "                           \"he'd\": \"he would\",\"he'll\": \"he will\", \"he's\": \"he is\", \"how'd\": \"how did\", \"how'd'y\": \"how do you\", \"how'll\": \"how will\", \"how's\": \"how is\",\n",
    "                           \"I'd\": \"I would\", \"I'd've\": \"I would have\", \"I'll\": \"I will\", \"I'll've\": \"I will have\",\"I'm\": \"I am\", \"I've\": \"I have\", \"i'd\": \"i would\",\n",
    "                           \"i'd've\": \"i would have\", \"i'll\": \"i will\",  \"i'll've\": \"i will have\",\"i'm\": \"i am\", \"i've\": \"i have\", \"isn't\": \"is not\", \"it'd\": \"it would\",\n",
    "                           \"it'd've\": \"it would have\", \"it'll\": \"it will\", \"it'll've\": \"it will have\",\"it's\": \"it is\", \"let's\": \"let us\", \"ma'am\": \"madam\",\n",
    "                           \"mayn't\": \"may not\", \"might've\": \"might have\",\"mightn't\": \"might not\",\"mightn't've\": \"might not have\", \"must've\": \"must have\",\n",
    "                           \"mustn't\": \"must not\", \"mustn't've\": \"must not have\", \"needn't\": \"need not\", \"needn't've\": \"need not have\",\"o'clock\": \"of the clock\",\n",
    "                           \"oughtn't\": \"ought not\", \"oughtn't've\": \"ought not have\", \"shan't\": \"shall not\", \"sha'n't\": \"shall not\", \"shan't've\": \"shall not have\",\n",
    "                           \"she'd\": \"she would\", \"she'd've\": \"she would have\", \"she'll\": \"she will\", \"she'll've\": \"she will have\", \"she's\": \"she is\",\n",
    "                           \"should've\": \"should have\", \"shouldn't\": \"should not\", \"shouldn't've\": \"should not have\", \"so've\": \"so have\",\"so's\": \"so as\",\n",
    "                           \"this's\": \"this is\",\"that'd\": \"that would\", \"that'd've\": \"that would have\", \"that's\": \"that is\", \"there'd\": \"there would\",\n",
    "                           \"there'd've\": \"there would have\", \"there's\": \"there is\", \"here's\": \"here is\",\"they'd\": \"they would\", \"they'd've\": \"they would have\",\n",
    "                           \"they'll\": \"they will\", \"they'll've\": \"they will have\", \"they're\": \"they are\", \"they've\": \"they have\", \"to've\": \"to have\",\n",
    "                           \"wasn't\": \"was not\", \"we'd\": \"we would\", \"we'd've\": \"we would have\", \"we'll\": \"we will\", \"we'll've\": \"we will have\", \"we're\": \"we are\",\n",
    "                           \"we've\": \"we have\", \"weren't\": \"were not\", \"what'll\": \"what will\", \"what'll've\": \"what will have\", \"what're\": \"what are\",\n",
    "                           \"what's\": \"what is\", \"what've\": \"what have\", \"when's\": \"when is\", \"when've\": \"when have\", \"where'd\": \"where did\", \"where's\": \"where is\",\n",
    "                           \"where've\": \"where have\", \"who'll\": \"who will\", \"who'll've\": \"who will have\", \"who's\": \"who is\", \"who've\": \"who have\",\n",
    "                           \"why's\": \"why is\", \"why've\": \"why have\", \"will've\": \"will have\", \"won't\": \"will not\", \"won't've\": \"will not have\",\n",
    "                           \"would've\": \"would have\", \"wouldn't\": \"would not\", \"wouldn't've\": \"would not have\", \"y'all\": \"you all\",\n",
    "                           \"y'all'd\": \"you all would\",\"y'all'd've\": \"you all would have\",\"y'all're\": \"you all are\",\"y'all've\": \"you all have\",\n",
    "                           \"you'd\": \"you would\", \"you'd've\": \"you would have\", \"you'll\": \"you will\", \"you'll've\": \"you will have\",\n",
    "                           \"you're\": \"you are\", \"you've\": \"you have\"}\n",
    "\n",
    "print(\"정규화 사전의 수: \", len(contractions))"
   ]
  },
  {
   "cell_type": "code",
   "execution_count": 12,
   "id": "5f75a030",
   "metadata": {
    "scrolled": true
   },
   "outputs": [
    {
     "name": "stdout",
     "output_type": "stream",
     "text": [
      "불용어 개수 : 179\n",
      "['i', 'me', 'my', 'myself', 'we', 'our', 'ours', 'ourselves', 'you', \"you're\", \"you've\", \"you'll\", \"you'd\", 'your', 'yours', 'yourself', 'yourselves', 'he', 'him', 'his', 'himself', 'she', \"she's\", 'her', 'hers', 'herself', 'it', \"it's\", 'its', 'itself', 'they', 'them', 'their', 'theirs', 'themselves', 'what', 'which', 'who', 'whom', 'this', 'that', \"that'll\", 'these', 'those', 'am', 'is', 'are', 'was', 'were', 'be', 'been', 'being', 'have', 'has', 'had', 'having', 'do', 'does', 'did', 'doing', 'a', 'an', 'the', 'and', 'but', 'if', 'or', 'because', 'as', 'until', 'while', 'of', 'at', 'by', 'for', 'with', 'about', 'against', 'between', 'into', 'through', 'during', 'before', 'after', 'above', 'below', 'to', 'from', 'up', 'down', 'in', 'out', 'on', 'off', 'over', 'under', 'again', 'further', 'then', 'once', 'here', 'there', 'when', 'where', 'why', 'how', 'all', 'any', 'both', 'each', 'few', 'more', 'most', 'other', 'some', 'such', 'no', 'nor', 'not', 'only', 'own', 'same', 'so', 'than', 'too', 'very', 's', 't', 'can', 'will', 'just', 'don', \"don't\", 'should', \"should've\", 'now', 'd', 'll', 'm', 'o', 're', 've', 'y', 'ain', 'aren', \"aren't\", 'couldn', \"couldn't\", 'didn', \"didn't\", 'doesn', \"doesn't\", 'hadn', \"hadn't\", 'hasn', \"hasn't\", 'haven', \"haven't\", 'isn', \"isn't\", 'ma', 'mightn', \"mightn't\", 'mustn', \"mustn't\", 'needn', \"needn't\", 'shan', \"shan't\", 'shouldn', \"shouldn't\", 'wasn', \"wasn't\", 'weren', \"weren't\", 'won', \"won't\", 'wouldn', \"wouldn't\"]\n"
     ]
    }
   ],
   "source": [
    "# 불용어 리스트\n",
    "print('불용어 개수 :', len(stopwords.words('english') ))\n",
    "print(stopwords.words('english'))"
   ]
  },
  {
   "cell_type": "code",
   "execution_count": 13,
   "id": "02f29095",
   "metadata": {},
   "outputs": [],
   "source": [
    "# 데이터 전처리 함수\n",
    "def preprocess_sentence(sentence, remove_stopwords=True):\n",
    "    sentence = sentence.lower() # 텍스트 소문자화\n",
    "    sentence = BeautifulSoup(sentence, \"lxml\").text # <br />, <a href = ...> 등의 html 태그 제거\n",
    "    sentence = re.sub(r'\\([^)]*\\)', '', sentence) # 괄호로 닫힌 문자열 (...) 제거 Ex) my husband (and myself!) for => my husband for\n",
    "    sentence = re.sub('\"','', sentence) # 쌍따옴표 \" 제거\n",
    "    sentence = ' '.join([contractions[t] if t in contractions else t for t in sentence.split(\" \")]) # 약어 정규화\n",
    "    sentence = re.sub(r\"'s\\b\",\"\", sentence) # 소유격 제거. Ex) roland's -> roland\n",
    "    sentence = re.sub(\"[^a-zA-Z]\", \" \", sentence) # 영어 외 문자(숫자, 특수문자 등) 공백으로 변환\n",
    "    sentence = re.sub('[m]{2,}', 'mm', sentence) # m이 3개 이상이면 2개로 변경. Ex) ummmmmmm yeah -> umm yeah\n",
    "    \n",
    "    # 불용어 제거 (Text)\n",
    "    if remove_stopwords:\n",
    "        tokens = ' '.join(word for word in sentence.split() if not word in stopwords.words('english') if len(word) > 1)\n",
    "    # 불용어 미제거 (Summary)\n",
    "    else:\n",
    "        tokens = ' '.join(word for word in sentence.split() if len(word) > 1)\n",
    "    return tokens"
   ]
  },
  {
   "cell_type": "code",
   "execution_count": 14,
   "id": "6ec56900",
   "metadata": {},
   "outputs": [
    {
     "name": "stdout",
     "output_type": "stream",
     "text": [
      "text 전처리 후 결과:  ['saurav kant alumnus upgrad iiit pg program machine learning artificial intelligence sr systems engineer infosys almost years work experience program upgrad degree career support helped transition data scientist tech mahindra salary hike upgrad online power learning powered lakh careers', 'kunal shah credit card bill payment platform cred gave users chance win free food swiggy one year pranav kaushik delhi techie bagged reward spending cred coins users get one cred coin per rupee bill paid used avail rewards brands like ixigo bookmyshow ubereats cult fit', 'new zealand defeated india wickets fourth odi hamilton thursday win first match five match odi series india lost international match rohit sharma captaincy consecutive victories dating back march match witnessed india getting seventh lowest total odi cricket history', 'aegon life iterm insurance plan customers enjoy tax benefits premiums paid save taxes plan provides life cover age years also customers options insure critical illnesses disability accidental death benefit rider life cover age years', 'speaking sexual harassment allegations rajkumar hirani sonam kapoor said known hirani many years true metoo movement get derailed metoo movement always believe woman case need reserve judgment added hirani accused assistant worked sanju']\n"
     ]
    }
   ],
   "source": [
    "# 전체 Text 데이터에 대한 전처리 : 10분 이상 시간이 걸릴 수 있습니다. \n",
    "clean_text = []\n",
    "\n",
    "for s in data['text']:\n",
    "    clean_text.append(preprocess_sentence(s))\n",
    "\n",
    "# 전처리 후 출력\n",
    "print(\"text 전처리 후 결과: \", clean_text[:5])"
   ]
  },
  {
   "cell_type": "code",
   "execution_count": 15,
   "id": "cb88ad9c",
   "metadata": {},
   "outputs": [
    {
     "name": "stdout",
     "output_type": "stream",
     "text": [
      "headlines 전처리 후 결과:  ['upgrad learner switches to career in ml al with salary hike', 'delhi techie wins free food from swiggy for one year on cred', 'new zealand end rohit sharma led india match winning streak', 'aegon life iterm insurance plan helps customers save tax', 'have known hirani for yrs what if metoo claims are not true sonam']\n"
     ]
    }
   ],
   "source": [
    "# 전체 Summary 데이터에 대한 전처리 : 5분 이상 시간이 걸릴 수 있습니다. \n",
    "clean_headlines = []\n",
    "\n",
    "for s in data['headlines']:\n",
    "    clean_headlines.append(preprocess_sentence(s, False))\n",
    "\n",
    "print(\"headlines 전처리 후 결과: \", clean_headlines[:5])"
   ]
  },
  {
   "cell_type": "code",
   "execution_count": 16,
   "id": "dfa9785d",
   "metadata": {},
   "outputs": [],
   "source": [
    "data['text'] = clean_text\n",
    "data['headlines'] = clean_headlines\n",
    "\n",
    "# 빈 값을 Null 값으로 변환\n",
    "data.replace('', np.nan, inplace=True)"
   ]
  },
  {
   "cell_type": "code",
   "execution_count": 17,
   "id": "a3b9afd0",
   "metadata": {},
   "outputs": [
    {
     "data": {
      "text/plain": [
       "headlines    0\n",
       "text         0\n",
       "dtype: int64"
      ]
     },
     "execution_count": 17,
     "metadata": {},
     "output_type": "execute_result"
    }
   ],
   "source": [
    "data.isnull().sum()"
   ]
  },
  {
   "cell_type": "markdown",
   "id": "6a7d86fd",
   "metadata": {},
   "source": [
    "### (2) 훈련 데이터와 테스트 데이터 나누기"
   ]
  },
  {
   "cell_type": "markdown",
   "id": "255739b3",
   "metadata": {},
   "source": [
    "### 샘플의 최대 길이 정하기"
   ]
  },
  {
   "cell_type": "code",
   "execution_count": 18,
   "id": "0a5cf3cc",
   "metadata": {
    "scrolled": true
   },
   "outputs": [
    {
     "name": "stdout",
     "output_type": "stream",
     "text": [
      "텍스트의 최소 길이 : 1\n",
      "텍스트의 최대 길이 : 60\n",
      "텍스트의 평균 길이 : 35.09968483123221\n",
      "요약의 최소 길이 : 1\n",
      "요약의 최대 길이 : 16\n",
      "요약의 평균 길이 : 9.299532330215534\n"
     ]
    },
    {
     "data": {
      "image/png": "[encoded data removed]",
      "text/plain": [
       "<Figure size 432x288 with 2 Axes>"
      ]
     },
     "metadata": {
      "needs_background": "light"
     },
     "output_type": "display_data"
    },
    {
     "data": {
      "image/png": "[encoded data removed]",
      "text/plain": [
       "<Figure size 432x288 with 1 Axes>"
      ]
     },
     "metadata": {
      "needs_background": "light"
     },
     "output_type": "display_data"
    },
    {
     "data": {
      "image/png": "[encoded data removed]",
      "text/plain": [
       "<Figure size 432x288 with 1 Axes>"
      ]
     },
     "metadata": {
      "needs_background": "light"
     },
     "output_type": "display_data"
    }
   ],
   "source": [
    "# 길이 분포 출력\n",
    "import matplotlib.pyplot as plt\n",
    "\n",
    "text_len = [len(s.split()) for s in data['text']]\n",
    "headlines_len = [len(s.split()) for s in data['headlines']]\n",
    "\n",
    "print('텍스트의 최소 길이 : {}'.format(np.min(text_len)))\n",
    "print('텍스트의 최대 길이 : {}'.format(np.max(text_len)))\n",
    "print('텍스트의 평균 길이 : {}'.format(np.mean(text_len)))\n",
    "print('요약의 최소 길이 : {}'.format(np.min(headlines_len)))\n",
    "print('요약의 최대 길이 : {}'.format(np.max(headlines_len)))\n",
    "print('요약의 평균 길이 : {}'.format(np.mean(headlines_len)))\n",
    "\n",
    "plt.subplot(1,2,1)\n",
    "plt.boxplot(text_len)\n",
    "plt.title('text')\n",
    "plt.subplot(1,2,2)\n",
    "plt.boxplot(headlines_len)\n",
    "plt.title('headlines')\n",
    "plt.tight_layout()\n",
    "plt.show()\n",
    "\n",
    "plt.title('text')\n",
    "plt.hist(text_len, bins = 40)\n",
    "plt.xlabel('length of samples')\n",
    "plt.ylabel('number of samples')\n",
    "plt.show()\n",
    "\n",
    "plt.title('headlines')\n",
    "plt.hist(headlines_len, bins = 40)\n",
    "plt.xlabel('length of samples')\n",
    "plt.ylabel('number of samples')\n",
    "plt.show()"
   ]
  },
  {
   "cell_type": "code",
   "execution_count": 19,
   "id": "46801bb2",
   "metadata": {},
   "outputs": [],
   "source": [
    "#text_max_len = 50\n",
    "#headlines_max_len = 15"
   ]
  },
  {
   "cell_type": "code",
   "execution_count": 20,
   "id": "c91b4e91",
   "metadata": {},
   "outputs": [],
   "source": [
    "#def below_threshold_len(max_len, nested_list):\n",
    "  #cnt = 0\n",
    "  #for s in nested_list:\n",
    "    #if(len(s.split()) <= max_len):\n",
    "        #cnt = cnt + 1\n",
    "  #print('전체 샘플 중 길이가 %s 이하인 샘플의 비율: %s'%(max_len, (cnt / len(nested_list))))"
   ]
  },
  {
   "cell_type": "code",
   "execution_count": 21,
   "id": "f712d0b0",
   "metadata": {},
   "outputs": [
    {
     "name": "stdout",
     "output_type": "stream",
     "text": [
      "전체 샘플 중 길이가 50 이하인 샘플의 비율: 0.9998576657177715\n",
      "전체 샘플 중 길이가 15 이하인 샘플의 비율: 0.9999694997966653\n"
     ]
    }
   ],
   "source": [
    "#below_threshold_len(text_max_len, data['text'])\n",
    "#below_threshold_len(headlines_max_len,  data['headlines'])"
   ]
  },
  {
   "cell_type": "code",
   "execution_count": null,
   "id": "dae2fdcf",
   "metadata": {},
   "outputs": [],
   "source": [
    "#data = data[data['text'].apply(lambda x: len(x.split()) <= text_max_len)]\n",
    "#data = data[data['headlines'].apply(lambda x: len(x.split()) <= headlines_max_len)]\n",
    "\n",
    "#print('전체 샘플수 :', (len(data)))"
   ]
  },
  {
   "cell_type": "code",
   "execution_count": 22,
   "id": "d1329b7d",
   "metadata": {},
   "outputs": [
    {
     "data": {
      "text/html": [
       "<div>\n",
       "<style scoped>\n",
       "    .dataframe tbody tr th:only-of-type {\n",
       "        vertical-align: middle;\n",
       "    }\n",
       "\n",
       "    .dataframe tbody tr th {\n",
       "        vertical-align: top;\n",
       "    }\n",
       "\n",
       "    .dataframe thead th {\n",
       "        text-align: right;\n",
       "    }\n",
       "</style>\n",
       "<table border=\"1\" class=\"dataframe\">\n",
       "  <thead>\n",
       "    <tr style=\"text-align: right;\">\n",
       "      <th></th>\n",
       "      <th>headlines</th>\n",
       "      <th>text</th>\n",
       "      <th>decoder_input</th>\n",
       "      <th>decoder_target</th>\n",
       "    </tr>\n",
       "  </thead>\n",
       "  <tbody>\n",
       "    <tr>\n",
       "      <th>0</th>\n",
       "      <td>upgrad learner switches to career in ml al wit...</td>\n",
       "      <td>saurav kant alumnus upgrad iiit pg program mac...</td>\n",
       "      <td>sostoken upgrad learner switches to career in ...</td>\n",
       "      <td>upgrad learner switches to career in ml al wit...</td>\n",
       "    </tr>\n",
       "    <tr>\n",
       "      <th>1</th>\n",
       "      <td>delhi techie wins free food from swiggy for on...</td>\n",
       "      <td>kunal shah credit card bill payment platform c...</td>\n",
       "      <td>sostoken delhi techie wins free food from swig...</td>\n",
       "      <td>delhi techie wins free food from swiggy for on...</td>\n",
       "    </tr>\n",
       "    <tr>\n",
       "      <th>2</th>\n",
       "      <td>new zealand end rohit sharma led india match w...</td>\n",
       "      <td>new zealand defeated india wickets fourth odi ...</td>\n",
       "      <td>sostoken new zealand end rohit sharma led indi...</td>\n",
       "      <td>new zealand end rohit sharma led india match w...</td>\n",
       "    </tr>\n",
       "    <tr>\n",
       "      <th>3</th>\n",
       "      <td>aegon life iterm insurance plan helps customer...</td>\n",
       "      <td>aegon life iterm insurance plan customers enjo...</td>\n",
       "      <td>sostoken aegon life iterm insurance plan helps...</td>\n",
       "      <td>aegon life iterm insurance plan helps customer...</td>\n",
       "    </tr>\n",
       "    <tr>\n",
       "      <th>4</th>\n",
       "      <td>have known hirani for yrs what if metoo claims...</td>\n",
       "      <td>speaking sexual harassment allegations rajkuma...</td>\n",
       "      <td>sostoken have known hirani for yrs what if met...</td>\n",
       "      <td>have known hirani for yrs what if metoo claims...</td>\n",
       "    </tr>\n",
       "  </tbody>\n",
       "</table>\n",
       "</div>"
      ],
      "text/plain": [
       "                                           headlines  \\\n",
       "0  upgrad learner switches to career in ml al wit...   \n",
       "1  delhi techie wins free food from swiggy for on...   \n",
       "2  new zealand end rohit sharma led india match w...   \n",
       "3  aegon life iterm insurance plan helps customer...   \n",
       "4  have known hirani for yrs what if metoo claims...   \n",
       "\n",
       "                                                text  \\\n",
       "0  saurav kant alumnus upgrad iiit pg program mac...   \n",
       "1  kunal shah credit card bill payment platform c...   \n",
       "2  new zealand defeated india wickets fourth odi ...   \n",
       "3  aegon life iterm insurance plan customers enjo...   \n",
       "4  speaking sexual harassment allegations rajkuma...   \n",
       "\n",
       "                                       decoder_input  \\\n",
       "0  sostoken upgrad learner switches to career in ...   \n",
       "1  sostoken delhi techie wins free food from swig...   \n",
       "2  sostoken new zealand end rohit sharma led indi...   \n",
       "3  sostoken aegon life iterm insurance plan helps...   \n",
       "4  sostoken have known hirani for yrs what if met...   \n",
       "\n",
       "                                      decoder_target  \n",
       "0  upgrad learner switches to career in ml al wit...  \n",
       "1  delhi techie wins free food from swiggy for on...  \n",
       "2  new zealand end rohit sharma led india match w...  \n",
       "3  aegon life iterm insurance plan helps customer...  \n",
       "4  have known hirani for yrs what if metoo claims...  "
      ]
     },
     "execution_count": 22,
     "metadata": {},
     "output_type": "execute_result"
    }
   ],
   "source": [
    "# 요약 데이터에는 시작 토큰과 종료 토큰을 추가한다.\n",
    "data['decoder_input'] = data['headlines'].apply(lambda x : 'sostoken '+ x)\n",
    "data['decoder_target'] = data['headlines'].apply(lambda x : x + ' eostoken')\n",
    "data.head()"
   ]
  },
  {
   "cell_type": "code",
   "execution_count": 23,
   "id": "19afe504",
   "metadata": {},
   "outputs": [],
   "source": [
    "# 인코더의 입력, 디코더의 입력과 레이블을 각각 다시 Numpy 타입으로 저장\n",
    "encoder_input = np.array(data['text']) # 인코더의 입력\n",
    "decoder_input = np.array(data['decoder_input']) # 디코더의 입력\n",
    "decoder_target = np.array(data['decoder_target']) # 디코더의 레이블"
   ]
  },
  {
   "cell_type": "code",
   "execution_count": 24,
   "id": "370c24a9",
   "metadata": {},
   "outputs": [
    {
     "name": "stdout",
     "output_type": "stream",
     "text": [
      "[22945 50741 72593 ... 15180 54330 79678]\n",
      "98360\n"
     ]
    }
   ],
   "source": [
    "# encoder_input과 크기와 형태가 같은 순서가 섞인 정수 시퀀스\n",
    "indices = np.arange(encoder_input.shape[0])\n",
    "np.random.shuffle(indices)\n",
    "print(indices)\n",
    "print(len(indices))"
   ]
  },
  {
   "cell_type": "code",
   "execution_count": 25,
   "id": "afbca281",
   "metadata": {},
   "outputs": [],
   "source": [
    "# 이 정수 시퀀스를 이용해 다시 데이터의 샘플 순서를 정의하여 잘 섞기\n",
    "encoder_input = encoder_input[indices]\n",
    "decoder_input = decoder_input[indices]\n",
    "decoder_target = decoder_target[indices]"
   ]
  },
  {
   "cell_type": "code",
   "execution_count": 26,
   "id": "d0413e49",
   "metadata": {},
   "outputs": [
    {
     "name": "stdout",
     "output_type": "stream",
     "text": [
      "테스트 데이터의 수 : 19672\n"
     ]
    }
   ],
   "source": [
    "n_of_val = int(len(encoder_input)*0.2)\n",
    "print('테스트 데이터의 수 :', n_of_val)"
   ]
  },
  {
   "cell_type": "code",
   "execution_count": 27,
   "id": "6dc218e8",
   "metadata": {},
   "outputs": [
    {
     "name": "stdout",
     "output_type": "stream",
     "text": [
      "훈련 데이터의 개수 : 78688\n",
      "훈련 레이블의 개수 : 78688\n",
      "테스트 데이터의 개수 : 19672\n",
      "테스트 레이블의 개수 : 19672\n"
     ]
    }
   ],
   "source": [
    "#  테스트 데이터의 개수를 이용해 전체 데이터를 양분\n",
    "encoder_input_train = encoder_input[:-n_of_val]\n",
    "decoder_input_train = decoder_input[:-n_of_val]\n",
    "decoder_target_train = decoder_target[:-n_of_val]\n",
    "\n",
    "encoder_input_test = encoder_input[-n_of_val:]\n",
    "decoder_input_test = decoder_input[-n_of_val:]\n",
    "decoder_target_test = decoder_target[-n_of_val:]\n",
    "\n",
    "print('훈련 데이터의 개수 :', len(encoder_input_train))\n",
    "print('훈련 레이블의 개수 :', len(decoder_input_train))\n",
    "print('테스트 데이터의 개수 :', len(encoder_input_test))\n",
    "print('테스트 레이블의 개수 :', len(decoder_input_test))"
   ]
  },
  {
   "cell_type": "markdown",
   "id": "aef949b6",
   "metadata": {},
   "source": [
    "### (3) 정수 인코딩"
   ]
  },
  {
   "cell_type": "markdown",
   "id": "8a9a8933",
   "metadata": {},
   "source": [
    "### 단어 집합(vocabulary) 만들기 및 정수 인코딩"
   ]
  },
  {
   "cell_type": "code",
   "execution_count": 28,
   "id": "effd5e72",
   "metadata": {},
   "outputs": [],
   "source": [
    "# 각 단어에 고유한 정수를 맵핑\n",
    "src_tokenizer = Tokenizer() # 토크나이저 정의\n",
    "src_tokenizer.fit_on_texts(encoder_input_train) # 입력된 데이터로부터 단어 집합 생성"
   ]
  },
  {
   "cell_type": "code",
   "execution_count": 32,
   "id": "ad713c66",
   "metadata": {},
   "outputs": [
    {
     "name": "stdout",
     "output_type": "stream",
     "text": [
      "단어 집합(vocabulary)의 크기 : 69666\n",
      "등장 빈도가 4번 이하인 희귀 단어의 수: 43228\n",
      "단어 집합에서 희귀 단어를 제외시킬 경우의 단어 집합의 크기 26438\n",
      "단어 집합에서 희귀 단어의 비율: 62.05035454884735\n",
      "전체 등장 빈도에서 희귀 단어 등장 빈도 비율: 2.6508016855637218\n"
     ]
    }
   ],
   "source": [
    "threshold = 5\n",
    "total_cnt = len(src_tokenizer.word_index) # 단어의 수\n",
    "rare_cnt = 0 # 등장 빈도수가 threshold보다 작은 단어의 개수를 카운트\n",
    "total_freq = 0 # 훈련 데이터의 전체 단어 빈도수 총 합\n",
    "rare_freq = 0 # 등장 빈도수가 threshold보다 작은 단어의 등장 빈도수의 총 합\n",
    "\n",
    "# 단어와 빈도수의 쌍(pair)을 key와 value로 받는다.\n",
    "for key, value in src_tokenizer.word_counts.items():\n",
    "    total_freq = total_freq + value\n",
    "\n",
    "    # 단어의 등장 빈도수가 threshold보다 작으면\n",
    "    if(value < threshold):\n",
    "        rare_cnt = rare_cnt + 1\n",
    "        rare_freq = rare_freq + value\n",
    "\n",
    "print('단어 집합(vocabulary)의 크기 :', total_cnt)\n",
    "print('등장 빈도가 %s번 이하인 희귀 단어의 수: %s'%(threshold - 1, rare_cnt))\n",
    "print('단어 집합에서 희귀 단어를 제외시킬 경우의 단어 집합의 크기 %s'%(total_cnt - rare_cnt))\n",
    "print(\"단어 집합에서 희귀 단어의 비율:\", (rare_cnt / total_cnt)*100)\n",
    "print(\"전체 등장 빈도에서 희귀 단어 등장 빈도 비율:\", (rare_freq / total_freq)*100)"
   ]
  },
  {
   "cell_type": "code",
   "execution_count": 33,
   "id": "aaa78b7a",
   "metadata": {},
   "outputs": [],
   "source": [
    "#  등장 빈도가 6회 이하인 단어들은 정수 인코딩 과정에서 빼고, 훈련 데이터에서 제거\n",
    "src_vocab = 2500\n",
    "src_tokenizer = Tokenizer(num_words=src_vocab) # 단어 집합의 크기를 2,500으로 제한\n",
    "src_tokenizer.fit_on_texts(encoder_input_train) # 단어 집합 재생성"
   ]
  },
  {
   "cell_type": "code",
   "execution_count": 34,
   "id": "ec3d51db",
   "metadata": {},
   "outputs": [
    {
     "name": "stdout",
     "output_type": "stream",
     "text": [
      "[[51, 136, 244, 252, 86, 15, 51, 2189, 172, 1577, 364, 587, 1096, 758, 1880, 118, 679, 501, 1668], [179, 803, 77, 872, 124, 306, 132, 13, 158, 332, 589, 511, 1380, 298, 377, 1, 24, 12], [306, 375, 308, 2, 1367, 1039, 159, 550, 405, 295, 8, 406, 120, 1057, 1, 57, 4, 666, 1668, 654, 425, 848]]\n"
     ]
    }
   ],
   "source": [
    "# 텍스트 시퀀스를 정수 시퀀스로 변환\n",
    "encoder_input_train = src_tokenizer.texts_to_sequences(encoder_input_train) \n",
    "encoder_input_test = src_tokenizer.texts_to_sequences(encoder_input_test)\n",
    "\n",
    "# 잘 진행되었는지 샘플 출력\n",
    "print(encoder_input_train[:3])"
   ]
  },
  {
   "cell_type": "code",
   "execution_count": 35,
   "id": "2dbe4091",
   "metadata": {},
   "outputs": [],
   "source": [
    "# headlines 데이터에 대해서도 동일한 작업 수행 \n",
    "# 각 단어에 고유한 정수를 맵핑\n",
    "tar_tokenizer = Tokenizer()\n",
    "tar_tokenizer.fit_on_texts(decoder_input_train)"
   ]
  },
  {
   "cell_type": "code",
   "execution_count": 38,
   "id": "ba002bc6",
   "metadata": {},
   "outputs": [
    {
     "name": "stdout",
     "output_type": "stream",
     "text": [
      "단어 집합(vocabulary)의 크기 : 30151\n",
      "등장 빈도가 2번 이하인 희귀 단어의 수: 14710\n",
      "단어 집합에서 희귀 단어를 제외시킬 경우의 단어 집합의 크기 15441\n",
      "단어 집합에서 희귀 단어의 비율: 48.787768233226096\n",
      "전체 등장 빈도에서 희귀 단어 등장 빈도 비율: 2.3098050731808435\n"
     ]
    }
   ],
   "source": [
    "threshold = 3\n",
    "total_cnt = len(tar_tokenizer.word_index) # 단어의 수\n",
    "rare_cnt = 0 # 등장 빈도수가 threshold보다 작은 단어의 개수를 카운트\n",
    "total_freq = 0 # 훈련 데이터의 전체 단어 빈도수 총 합\n",
    "rare_freq = 0 # 등장 빈도수가 threshold보다 작은 단어의 등장 빈도수의 총 합\n",
    "\n",
    "# 단어와 빈도수의 쌍(pair)을 key와 value로 받는다.\n",
    "for key, value in tar_tokenizer.word_counts.items():\n",
    "    total_freq = total_freq + value\n",
    "\n",
    "    # 단어의 등장 빈도수가 threshold보다 작으면\n",
    "    if(value < threshold):\n",
    "        rare_cnt = rare_cnt + 1\n",
    "        rare_freq = rare_freq + value\n",
    "\n",
    "print('단어 집합(vocabulary)의 크기 :', total_cnt)\n",
    "print('등장 빈도가 %s번 이하인 희귀 단어의 수: %s'%(threshold - 1, rare_cnt))\n",
    "print('단어 집합에서 희귀 단어를 제외시킬 경우의 단어 집합의 크기 %s'%(total_cnt - rare_cnt))\n",
    "print(\"단어 집합에서 희귀 단어의 비율:\", (rare_cnt / total_cnt)*100)\n",
    "print(\"전체 등장 빈도에서 희귀 단어 등장 빈도 비율:\", (rare_freq / total_freq)*100)"
   ]
  },
  {
   "cell_type": "code",
   "execution_count": 39,
   "id": "1132b90f",
   "metadata": {},
   "outputs": [
    {
     "name": "stdout",
     "output_type": "stream",
     "text": [
      "input\n",
      "input  [[1, 6, 66, 264, 43, 1413, 4, 117], [1, 56, 899, 521, 14, 392, 26], [1, 642, 233, 69], [1, 787, 506, 479, 126, 3, 1217, 404], [1, 74, 72, 1489, 1133, 108, 110, 129, 51, 237]]\n",
      "target\n",
      "decoder  [[6, 66, 264, 43, 1413, 4, 117, 2], [56, 899, 521, 14, 392, 26, 2], [642, 233, 69, 2], [787, 506, 479, 126, 3, 1217, 404, 2], [74, 72, 1489, 1133, 108, 110, 129, 51, 237, 2]]\n"
     ]
    }
   ],
   "source": [
    "tar_vocab = 1500\n",
    "tar_tokenizer = Tokenizer(num_words=tar_vocab) \n",
    "tar_tokenizer.fit_on_texts(decoder_input_train) # 단어 집합 재생성\n",
    "tar_tokenizer.fit_on_texts(decoder_target_train)\n",
    "\n",
    "# 텍스트 시퀀스를 정수 시퀀스로 변환\n",
    "decoder_input_train = tar_tokenizer.texts_to_sequences(decoder_input_train) \n",
    "decoder_target_train = tar_tokenizer.texts_to_sequences(decoder_target_train)\n",
    "decoder_input_test = tar_tokenizer.texts_to_sequences(decoder_input_test)\n",
    "decoder_target_test = tar_tokenizer.texts_to_sequences(decoder_target_test)\n",
    "\n",
    "# 잘 변환되었는지 확인\n",
    "print('input')\n",
    "print('input ',decoder_input_train[:5])\n",
    "print('target')\n",
    "print('decoder ',decoder_target_train[:5])"
   ]
  },
  {
   "cell_type": "code",
   "execution_count": 40,
   "id": "3e2dd5de",
   "metadata": {},
   "outputs": [
    {
     "name": "stdout",
     "output_type": "stream",
     "text": [
      "삭제할 훈련 데이터의 개수 : 28\n",
      "삭제할 테스트 데이터의 개수 : 7\n",
      "훈련 데이터의 개수 : 78660\n",
      "훈련 레이블의 개수 : 78660\n",
      "테스트 데이터의 개수 : 19665\n",
      "테스트 레이블의 개수 : 19665\n"
     ]
    }
   ],
   "source": [
    "drop_train = [index for index, sentence in enumerate(decoder_input_train) if len(sentence) == 1]\n",
    "drop_test = [index for index, sentence in enumerate(decoder_input_test) if len(sentence) == 1]\n",
    "\n",
    "print('삭제할 훈련 데이터의 개수 :', len(drop_train))\n",
    "print('삭제할 테스트 데이터의 개수 :', len(drop_test))\n",
    "\n",
    "encoder_input_train = [sentence for index, sentence in enumerate(encoder_input_train) if index not in drop_train]\n",
    "decoder_input_train = [sentence for index, sentence in enumerate(decoder_input_train) if index not in drop_train]\n",
    "decoder_target_train = [sentence for index, sentence in enumerate(decoder_target_train) if index not in drop_train]\n",
    "\n",
    "encoder_input_test = [sentence for index, sentence in enumerate(encoder_input_test) if index not in drop_test]\n",
    "decoder_input_test = [sentence for index, sentence in enumerate(decoder_input_test) if index not in drop_test]\n",
    "decoder_target_test = [sentence for index, sentence in enumerate(decoder_target_test) if index not in drop_test]\n",
    "\n",
    "print('훈련 데이터의 개수 :', len(encoder_input_train))\n",
    "print('훈련 레이블의 개수 :', len(decoder_input_train))\n",
    "print('테스트 데이터의 개수 :', len(encoder_input_test))\n",
    "print('테스트 레이블의 개수 :', len(decoder_input_test))"
   ]
  },
  {
   "cell_type": "markdown",
   "id": "b57ed779",
   "metadata": {},
   "source": [
    "### 패딩하기"
   ]
  },
  {
   "cell_type": "code",
   "execution_count": 41,
   "id": "1a97d31d",
   "metadata": {},
   "outputs": [],
   "source": [
    "encoder_input_train = pad_sequences(encoder_input_train, maxlen=text_max_len, padding='post')\n",
    "encoder_input_test = pad_sequences(encoder_input_test, maxlen=text_max_len, padding='post')\n",
    "\n",
    "decoder_input_train = pad_sequences(decoder_input_train, maxlen=headlines_max_len, padding='post')\n",
    "decoder_target_train = pad_sequences(decoder_target_train, maxlen=headlines_max_len, padding='post')\n",
    "decoder_input_test = pad_sequences(decoder_input_test, maxlen=headlines_max_len, padding='post')\n",
    "decoder_target_test = pad_sequences(decoder_target_test, maxlen=headlines_max_len, padding='post')"
   ]
  },
  {
   "cell_type": "markdown",
   "id": "1f831f44",
   "metadata": {},
   "source": [
    "## Step 3. 어텐션 메커니즘 사용하기 (추상적 요약)"
   ]
  },
  {
   "cell_type": "code",
   "execution_count": 42,
   "id": "81287235",
   "metadata": {},
   "outputs": [],
   "source": [
    "# 함수형 API를 이용해서 인코더를 설계\n",
    "\n",
    "from tensorflow.keras.layers import Input, LSTM, Embedding, Dense, Concatenate, TimeDistributed\n",
    "from tensorflow.keras.models import Model\n",
    "from tensorflow.keras.callbacks import EarlyStopping, ModelCheckpoint\n",
    "\n",
    "\n",
    "# 인코더 설계 시작\n",
    "embedding_dim = 128\n",
    "hidden_size = 256\n",
    "\n",
    "# 인코더\n",
    "encoder_inputs = Input(shape=(text_max_len,))\n",
    "\n",
    "# 인코더의 임베딩 층\n",
    "enc_emb = Embedding(src_vocab, embedding_dim)(encoder_inputs)\n",
    "\n",
    "# 인코더의 LSTM 1\n",
    "# encoder_lstm1 = LSTM(hidden_size, return_sequences=True, return_state=True ,dropout = 0.4, recurrent_dropout = 0.4)\n",
    "encoder_lstm1 = LSTM(hidden_size, return_sequences=True, return_state=True ,dropout = 0.4)\n",
    "encoder_output1, state_h1, state_c1 = encoder_lstm1(enc_emb)\n",
    "\n",
    "\n",
    "# 인코더의 LSTM 2\n",
    "encoder_lstm2 = LSTM(hidden_size, return_sequences=True, return_state=True, dropout=0.4)\n",
    "encoder_output2, state_h2, state_c2 = encoder_lstm2(encoder_output1)\n",
    "\n",
    "# 인코더의 LSTM 3\n",
    "encoder_lstm3 = LSTM(hidden_size, return_sequences=True, return_state=True, dropout=0.4)\n",
    "encoder_output3, state_h3, state_c3 = encoder_lstm3(encoder_output2)\n"
   ]
  },
  {
   "cell_type": "code",
   "execution_count": 43,
   "id": "8b4ed648",
   "metadata": {},
   "outputs": [],
   "source": [
    "# 디코더 설계 \n",
    "# My Code\n",
    "encoder_outputs, state_h, state_c = encoder_output3, state_h3, state_c3\n",
    "\n",
    "# 디코더 설계\n",
    "decoder_inputs = Input(shape=(None,))\n",
    "\n",
    "# 디코더의 임베딩 층\n",
    "dec_emb_layer = Embedding(tar_vocab, embedding_dim)\n",
    "dec_emb = dec_emb_layer(decoder_inputs)\n",
    "\n",
    "# 디코더의 LSTM\n",
    "# decoder_lstm = LSTM(hidden_size, return_sequences=True, return_state=True, dropout=0.4, recurrent_dropout=0.2)\n",
    "decoder_lstm = LSTM(hidden_size, return_sequences=True, return_state=True, dropout=0.4)\n",
    "decoder_outputs, _, _ = decoder_lstm(dec_emb, initial_state=[state_h, state_c])"
   ]
  },
  {
   "cell_type": "code",
   "execution_count": 44,
   "id": "d6f65ed5",
   "metadata": {},
   "outputs": [],
   "source": [
    "# 디코더의 출력층\n",
    "decoder_softmax_layer = Dense(tar_vocab, activation='softmax') # 다중 클래스 분류 \n",
    "decoder_softmax_outputs = decoder_softmax_layer(decoder_outputs) "
   ]
  },
  {
   "cell_type": "code",
   "execution_count": 45,
   "id": "96ac3b87",
   "metadata": {},
   "outputs": [
    {
     "name": "stdout",
     "output_type": "stream",
     "text": [
      "Model: \"model\"\n",
      "__________________________________________________________________________________________________\n",
      "Layer (type)                    Output Shape         Param #     Connected to                     \n",
      "==================================================================================================\n",
      "input_1 (InputLayer)            [(None, 50)]         0                                            \n",
      "__________________________________________________________________________________________________\n",
      "embedding (Embedding)           (None, 50, 128)      320000      input_1[0][0]                    \n",
      "__________________________________________________________________________________________________\n",
      "lstm (LSTM)                     [(None, 50, 256), (N 394240      embedding[0][0]                  \n",
      "__________________________________________________________________________________________________\n",
      "input_2 (InputLayer)            [(None, None)]       0                                            \n",
      "__________________________________________________________________________________________________\n",
      "lstm_1 (LSTM)                   [(None, 50, 256), (N 525312      lstm[0][0]                       \n",
      "__________________________________________________________________________________________________\n",
      "embedding_1 (Embedding)         (None, None, 128)    192000      input_2[0][0]                    \n",
      "__________________________________________________________________________________________________\n",
      "lstm_2 (LSTM)                   [(None, 50, 256), (N 525312      lstm_1[0][0]                     \n",
      "__________________________________________________________________________________________________\n",
      "lstm_3 (LSTM)                   [(None, None, 256),  394240      embedding_1[0][0]                \n",
      "                                                                 lstm_2[0][1]                     \n",
      "                                                                 lstm_2[0][2]                     \n",
      "__________________________________________________________________________________________________\n",
      "dense (Dense)                   (None, None, 1500)   385500      lstm_3[0][0]                     \n",
      "==================================================================================================\n",
      "Total params: 2,736,604\n",
      "Trainable params: 2,736,604\n",
      "Non-trainable params: 0\n",
      "__________________________________________________________________________________________________\n"
     ]
    }
   ],
   "source": [
    "# 모델 정의\n",
    "model = Model([encoder_inputs, decoder_inputs], decoder_softmax_outputs)\n",
    "model.summary()"
   ]
  },
  {
   "cell_type": "markdown",
   "id": "b1839556",
   "metadata": {},
   "source": [
    "### 어텐션 메커니즘"
   ]
  },
  {
   "cell_type": "code",
   "execution_count": 46,
   "id": "9f96a6c1",
   "metadata": {},
   "outputs": [
    {
     "name": "stdout",
     "output_type": "stream",
     "text": [
      "Model: \"model_1\"\n",
      "__________________________________________________________________________________________________\n",
      "Layer (type)                    Output Shape         Param #     Connected to                     \n",
      "==================================================================================================\n",
      "input_1 (InputLayer)            [(None, 50)]         0                                            \n",
      "__________________________________________________________________________________________________\n",
      "embedding (Embedding)           (None, 50, 128)      320000      input_1[0][0]                    \n",
      "__________________________________________________________________________________________________\n",
      "lstm (LSTM)                     [(None, 50, 256), (N 394240      embedding[0][0]                  \n",
      "__________________________________________________________________________________________________\n",
      "input_2 (InputLayer)            [(None, None)]       0                                            \n",
      "__________________________________________________________________________________________________\n",
      "lstm_1 (LSTM)                   [(None, 50, 256), (N 525312      lstm[0][0]                       \n",
      "__________________________________________________________________________________________________\n",
      "embedding_1 (Embedding)         (None, None, 128)    192000      input_2[0][0]                    \n",
      "__________________________________________________________________________________________________\n",
      "lstm_2 (LSTM)                   [(None, 50, 256), (N 525312      lstm_1[0][0]                     \n",
      "__________________________________________________________________________________________________\n",
      "lstm_3 (LSTM)                   [(None, None, 256),  394240      embedding_1[0][0]                \n",
      "                                                                 lstm_2[0][1]                     \n",
      "                                                                 lstm_2[0][2]                     \n",
      "__________________________________________________________________________________________________\n",
      "attention_layer (AdditiveAttent (None, None, 256)    256         lstm_3[0][0]                     \n",
      "                                                                 lstm_2[0][0]                     \n",
      "__________________________________________________________________________________________________\n",
      "concat_layer (Concatenate)      (None, None, 512)    0           lstm_3[0][0]                     \n",
      "                                                                 attention_layer[0][0]            \n",
      "__________________________________________________________________________________________________\n",
      "dense_1 (Dense)                 (None, None, 1500)   769500      concat_layer[0][0]               \n",
      "==================================================================================================\n",
      "Total params: 3,120,860\n",
      "Trainable params: 3,120,860\n",
      "Non-trainable params: 0\n",
      "__________________________________________________________________________________________________\n"
     ]
    }
   ],
   "source": [
    "from tensorflow.keras.layers import AdditiveAttention\n",
    "\n",
    "# 어텐션 층(어텐션 함수)\n",
    "attn_layer = AdditiveAttention(name='attention_layer')\n",
    "\n",
    "# 인코더와 디코더의 모든 time step의 hidden state를 어텐션 층에 전달하고 결과를 리턴\n",
    "attn_out = attn_layer([decoder_outputs, encoder_outputs])\n",
    "\n",
    "\n",
    "# 어텐션의 결과와 디코더의 hidden state들을 연결\n",
    "decoder_concat_input = Concatenate(axis=-1, name='concat_layer')([decoder_outputs, attn_out])\n",
    "\n",
    "# 디코더의 출력층\n",
    "decoder_softmax_layer = Dense(tar_vocab, activation='softmax')\n",
    "decoder_softmax_outputs = decoder_softmax_layer(decoder_concat_input)\n",
    "\n",
    "# 모델 정의\n",
    "model = Model([encoder_inputs, decoder_inputs], decoder_softmax_outputs)\n",
    "model.summary()"
   ]
  },
  {
   "cell_type": "code",
   "execution_count": 47,
   "id": "e723405c",
   "metadata": {},
   "outputs": [
    {
     "name": "stdout",
     "output_type": "stream",
     "text": [
      "Epoch 1/50\n",
      "308/308 [==============================] - 57s 80ms/step - loss: 2.8453 - val_loss: 2.6248\n",
      "Epoch 2/50\n",
      "308/308 [==============================] - 24s 78ms/step - loss: 2.4645 - val_loss: 2.3720\n",
      "Epoch 3/50\n",
      "308/308 [==============================] - 25s 80ms/step - loss: 2.2766 - val_loss: 2.2169\n",
      "Epoch 4/50\n",
      "308/308 [==============================] - 25s 81ms/step - loss: 2.1506 - val_loss: 2.1252\n",
      "Epoch 5/50\n",
      "308/308 [==============================] - 25s 81ms/step - loss: 2.0557 - val_loss: 2.0436\n",
      "Epoch 6/50\n",
      "308/308 [==============================] - 25s 80ms/step - loss: 1.9766 - val_loss: 1.9852\n",
      "Epoch 7/50\n",
      "308/308 [==============================] - 25s 80ms/step - loss: 1.9115 - val_loss: 1.9406\n",
      "Epoch 8/50\n",
      "308/308 [==============================] - 25s 81ms/step - loss: 1.8572 - val_loss: 1.9039\n",
      "Epoch 9/50\n",
      "308/308 [==============================] - 25s 81ms/step - loss: 1.8088 - val_loss: 1.8720\n",
      "Epoch 10/50\n",
      "308/308 [==============================] - 25s 81ms/step - loss: 1.7670 - val_loss: 1.8432\n",
      "Epoch 11/50\n",
      "308/308 [==============================] - 25s 81ms/step - loss: 1.7293 - val_loss: 1.8229\n",
      "Epoch 12/50\n",
      "308/308 [==============================] - 25s 81ms/step - loss: 1.6953 - val_loss: 1.8076\n",
      "Epoch 13/50\n",
      "308/308 [==============================] - 25s 81ms/step - loss: 1.6639 - val_loss: 1.7916\n",
      "Epoch 14/50\n",
      "308/308 [==============================] - 25s 81ms/step - loss: 1.6359 - val_loss: 1.7826\n",
      "Epoch 15/50\n",
      "308/308 [==============================] - 25s 81ms/step - loss: 1.6089 - val_loss: 1.7726\n",
      "Epoch 16/50\n",
      "308/308 [==============================] - 25s 81ms/step - loss: 1.5853 - val_loss: 1.7679\n",
      "Epoch 17/50\n",
      "308/308 [==============================] - 25s 81ms/step - loss: 1.5624 - val_loss: 1.7558\n",
      "Epoch 18/50\n",
      "308/308 [==============================] - 25s 81ms/step - loss: 1.5413 - val_loss: 1.7522\n",
      "Epoch 19/50\n",
      "308/308 [==============================] - 25s 81ms/step - loss: 1.5222 - val_loss: 1.7479\n",
      "Epoch 20/50\n",
      "308/308 [==============================] - 25s 81ms/step - loss: 1.5022 - val_loss: 1.7443\n",
      "Epoch 21/50\n",
      "308/308 [==============================] - 25s 81ms/step - loss: 1.4841 - val_loss: 1.7412\n",
      "Epoch 22/50\n",
      "308/308 [==============================] - 25s 81ms/step - loss: 1.4672 - val_loss: 1.7422\n",
      "Epoch 23/50\n",
      "308/308 [==============================] - 25s 81ms/step - loss: 1.4509 - val_loss: 1.7403\n",
      "Epoch 24/50\n",
      "308/308 [==============================] - 25s 81ms/step - loss: 1.4360 - val_loss: 1.7387\n",
      "Epoch 25/50\n",
      "308/308 [==============================] - 25s 81ms/step - loss: 1.4221 - val_loss: 1.7378\n",
      "Epoch 26/50\n",
      "308/308 [==============================] - 25s 81ms/step - loss: 1.4083 - val_loss: 1.7395\n",
      "Epoch 27/50\n",
      "308/308 [==============================] - 25s 81ms/step - loss: 1.3946 - val_loss: 1.7422\n",
      "Epoch 00027: early stopping\n"
     ]
    }
   ],
   "source": [
    "# 모델 컴파일\n",
    "model.compile(optimizer='rmsprop', loss='sparse_categorical_crossentropy')\n",
    "es = EarlyStopping(monitor='val_loss', patience=2, verbose=1)\n",
    "\n",
    "# 모델 훈련\n",
    "history = model.fit(x=[encoder_input_train, decoder_input_train], y=decoder_target_train, \\\n",
    "          validation_data=([encoder_input_test, decoder_input_test], decoder_target_test), \\\n",
    "          batch_size=256, callbacks=[es], epochs=50)"
   ]
  },
  {
   "cell_type": "code",
   "execution_count": 48,
   "id": "b73a30c4",
   "metadata": {},
   "outputs": [
    {
     "data": {
      "image/png": "[encoded data removed]",
      "text/plain": [
       "<Figure size 432x288 with 1 Axes>"
      ]
     },
     "metadata": {
      "needs_background": "light"
     },
     "output_type": "display_data"
    }
   ],
   "source": [
    "plt.plot(history.history['loss'], label='train')\n",
    "plt.plot(history.history['val_loss'], label='test')\n",
    "plt.legend()\n",
    "plt.show()"
   ]
  },
  {
   "cell_type": "code",
   "execution_count": 56,
   "id": "e2f06606",
   "metadata": {},
   "outputs": [],
   "source": [
    "src_index_to_word = src_tokenizer.index_word # 원문 단어 집합에서 정수 -> 단어를 얻음\n",
    "tar_word_to_index = tar_tokenizer.word_index # 요약 단어 집합에서 단어 -> 정수를 얻음\n",
    "tar_index_to_word = tar_tokenizer.index_word # 요약 단어 집합에서 정수 -> 단어를 얻음"
   ]
  },
  {
   "cell_type": "code",
   "execution_count": 57,
   "id": "39e34e08",
   "metadata": {},
   "outputs": [],
   "source": [
    "# 인코더 설계\n",
    "encoder_model = Model(inputs=encoder_inputs, outputs=[encoder_outputs, state_h, state_c])\n",
    "\n",
    "# 이전 시점의 상태들을 저장하는 텐서\n",
    "decoder_state_input_h = Input(shape=(hidden_size,))\n",
    "decoder_state_input_c = Input(shape=(hidden_size,))\n",
    "\n",
    "dec_emb2 = dec_emb_layer(decoder_inputs)\n",
    "\n",
    "# 문장의 다음 단어를 예측하기 위해서 초기 상태(initial_state)를 이전 시점의 상태로 사용. 이는 뒤의 함수 decode_sequence()에 구현\n",
    "# 훈련 과정에서와 달리 LSTM의 리턴하는 은닉 상태와 셀 상태인 state_h와 state_c를 버리지 않음.\n",
    "decoder_outputs2, state_h2, state_c2 = decoder_lstm(dec_emb2, initial_state=[decoder_state_input_h, decoder_state_input_c])"
   ]
  },
  {
   "cell_type": "code",
   "execution_count": 58,
   "id": "f3fbd27c",
   "metadata": {},
   "outputs": [],
   "source": [
    "# 어텐션 메커니즘을 사용하는 출력층을 설계\n",
    "# 어텐션 함수\n",
    "decoder_hidden_state_input = Input(shape=(text_max_len, hidden_size))\n",
    "attn_out_inf = attn_layer([decoder_outputs2, decoder_hidden_state_input])\n",
    "decoder_inf_concat = Concatenate(axis=-1, name='concat')([decoder_outputs2, attn_out_inf])\n",
    "\n",
    "# 디코더의 출력층\n",
    "decoder_outputs2 = decoder_softmax_layer(decoder_inf_concat) \n",
    "\n",
    "# 최종 디코더 모델\n",
    "decoder_model = Model(\n",
    "    [decoder_inputs] + [decoder_hidden_state_input,decoder_state_input_h, decoder_state_input_c],\n",
    "    [decoder_outputs2] + [state_h2, state_c2])"
   ]
  },
  {
   "cell_type": "code",
   "execution_count": 64,
   "id": "3112f0a4",
   "metadata": {},
   "outputs": [],
   "source": [
    "# 인퍼런스 단계에서 단어 시퀀스를 완성하는 함수\n",
    "def decode_sequence(input_seq):\n",
    "    # 입력으로부터 인코더의 상태를 얻음\n",
    "    e_out, e_h, e_c = encoder_model.predict(input_seq)\n",
    "\n",
    "     # <SOS>에 해당하는 토큰 생성\n",
    "    target_seq = np.zeros((1,1))\n",
    "    target_seq[0, 0] = tar_word_to_index['sostoken']\n",
    "\n",
    "    stop_condition = False\n",
    "    decoded_sentence = ''\n",
    "    while not stop_condition: # stop_condition이 True가 될 때까지 루프 반복\n",
    "\n",
    "        output_tokens, h, c = decoder_model.predict([target_seq] + [e_out, e_h, e_c])\n",
    "        sampled_token_index = np.argmax(output_tokens[0, -1, :])\n",
    "        sampled_token = tar_index_to_word[sampled_token_index]\n",
    "\n",
    "        if (sampled_token!='eostoken'):\n",
    "            decoded_sentence += ' '+sampled_token\n",
    "\n",
    "        #  <eos>에 도달하거나 최대 길이를 넘으면 중단.\n",
    "        if (sampled_token == 'eostoken'  or len(decoded_sentence.split()) >= (headlines_max_len-1)):\n",
    "            stop_condition = True\n",
    "\n",
    "        # 길이가 1인 타겟 시퀀스를 업데이트\n",
    "        target_seq = np.zeros((1,1))\n",
    "        target_seq[0, 0] = sampled_token_index\n",
    "\n",
    "        # 상태를 업데이트 합니다.\n",
    "        e_h, e_c = h, c\n",
    "\n",
    "    return decoded_sentence"
   ]
  },
  {
   "cell_type": "markdown",
   "id": "65116f96",
   "metadata": {},
   "source": [
    "## Step 4. 실제 결과와 요약문 비교하기 (추상적 요약)"
   ]
  },
  {
   "cell_type": "code",
   "execution_count": 65,
   "id": "682ab3d0",
   "metadata": {},
   "outputs": [],
   "source": [
    "# 원문의 정수 시퀀스를 텍스트 시퀀스로 변환\n",
    "def seq2text(input_seq):\n",
    "    temp=''\n",
    "    for i in input_seq:\n",
    "        if (i!=0):\n",
    "            temp = temp + src_index_to_word[i]+' '\n",
    "    return temp\n",
    "\n",
    "# 제목의 정수 시퀀스를 텍스트 시퀀스로 변환\n",
    "def seq2headlines(input_seq):\n",
    "    temp=''\n",
    "    for i in input_seq:\n",
    "        if ((i!=0 and i!=tar_word_to_index['sostoken']) and i!=tar_word_to_index['eostoken']):\n",
    "            temp = temp + tar_index_to_word[i] + ' '\n",
    "    return temp"
   ]
  },
  {
   "cell_type": "code",
   "execution_count": 66,
   "id": "9cde1a7f",
   "metadata": {},
   "outputs": [
    {
     "name": "stdout",
     "output_type": "stream",
     "text": [
      "원문 : former indian cricketer rajya sabha member sachin tendulkar raised question house additional high stations including recently killed people tendulkar also asked first aid injured railway stations \n",
      "실제 요약 : sachin had asked for bridge at hit station in \n",
      "예측 요약 :  sachin tendulkar to be in\n",
      "\n",
      "\n",
      "원문 : world bank suggested safety measures indian railways help report titled safety indian railways advised trains hours employees wear high clothes also asked railways set independent rail safety regulator \n",
      "실제 요약 : world bank safety to indian railways \n",
      "예측 요약 :  india to train safety railway in trains\n",
      "\n",
      "\n",
      "원문 : rbi people fake website name asking personal banking details bank customers fake website similar original rbi website rbi also public fake rbi rbi \n",
      "실제 요약 : rbi warns of fake website seeking info in its name \n",
      "예측 요약 :  fake news of fake news\n",
      "\n",
      "\n",
      "원문 : singer lady late friend birthday wrote wear around black given husband served managing director brain cancer passed away may year \n",
      "실제 요약 : says she her late friend in \n",
      "예측 요약 :  shares pic of cancer\n",
      "\n",
      "\n",
      "원문 : eight time olympic gold winner offered two year long contract based football club trial australian club central coast since august recently scored first two goals professional football also offered play upcoming super cup final \n",
      "실제 요약 : offered two year with based club \n",
      "예측 요약 :  olympic club to be in\n",
      "\n",
      "\n",
      "원문 : us based researchers developed smartphone device within minutes device less half kg costs around device blood repeatedly followed image app giving caused \n",
      "실제 요약 : new device that can in min \n",
      "예측 요약 :  device that can times\n",
      "\n",
      "\n",
      "원문 : state run russian tv channel told citizens world war channel suggested list including told people protect body comes amid ongoing russia world missile strikes syria \n",
      "실제 요약 : russian tells to be ready for world war \n",
      "예측 요약 :  russian times than war\n",
      "\n",
      "\n",
      "원문 : delhi bridge set open river sunday metre high box people taken four total capacity people built cost crore india first bridge \n",
      "실제 요약 : delhi bridge to have selfie high \n",
      "예측 요약 :  delhi metro to open on\n",
      "\n",
      "\n",
      "원문 : scientists first time successfully heart run families called heart stop result single could lead passed \n",
      "실제 요약 : human to stop for the st time \n",
      "예측 요약 :  st ever heart\n",
      "\n",
      "\n",
      "원문 : one markets south delhi market association tuesday started free service people visiting market parking major cause association people using vehicles market traffic \n",
      "실제 요약 : free at delhi market \n",
      "예측 요약 :  delhi university to be\n",
      "\n",
      "\n",
      "원문 : paid hospital bill actress kapoor lakh claims son seeking certificate children old age home revealed son would beat give food four days \n",
      "실제 요약 : pay medical bill of actress by son \n",
      "예측 요약 :  pays tribute to of\n",
      "\n",
      "\n",
      "원문 : researchers developed changes colour plastic light minutes researchers said people lot compared years ago lot waste changing colour create whole new every time added \n",
      "실제 요약 : may allow of \n",
      "예측 요약 :  plastic using new\n",
      "\n",
      "\n",
      "원문 : least people died heavy caused floods parts north india including himachal pradesh punjab least eight deaths reported himachal pradesh seven jammu kashmir six punjab four haryana many people himachal among areas \n",
      "실제 요약 : die due to in of north india \n",
      "예측 요약 :  death toll rises to in kerala floods\n",
      "\n",
      "\n",
      "원문 : revealed three billion users accounts hacked data earlier one billion however stolen data include clear payment card data bank account information notably cut acquisition offer billion billion \n",
      "실제 요약 : reveals all its billion users accounts were hacked \n",
      "예측 요약 :  google billion users to users data\n",
      "\n",
      "\n",
      "원문 : aditya resignation president india largest airline indigo airline billionaire co founder director rahul said also said engine issues aditya customer issues aditya aditya added world read way real \n",
      "실제 요약 : exit was not so indigo co founder \n",
      "예측 요약 :  not to be as chairman\n",
      "\n",
      "\n",
      "원문 : us based used understand results right gold left team used bowling ball results gold \n",
      "실제 요약 : scientists play to \n",
      "예측 요약 :  us wins for\n",
      "\n",
      "\n",
      "원문 : seven year old class boy died thursday allegedly beaten school police said son teacher said school boy mother said boy reportedly taken two hospitals one another one delhi \n",
      "실제 요약 : yr old boy dies after being beaten up in school \n",
      "예측 요약 :  class boy kills self after teacher\n",
      "\n",
      "\n",
      "원문 : saudi arabia announced plans build billion powered energy across city named square kilometres making times new york city services city fully \n",
      "실제 요약 : saudi to build bn high tech city times than \n",
      "예측 요약 :  saudi arabia launches mn in\n",
      "\n",
      "\n",
      "원문 : singer song said owners car brand paid making brand popular song song many seen places like added next part \n",
      "실제 요약 : should have paid me for making the brand \n",
      "예측 요약 :  let me be used to be on\n",
      "\n",
      "\n",
      "원문 : said sanjay dutt would played self upcoming biopic would added ranbir film see sanjay playing self would public film \n",
      "실제 요약 : dutt playing self in would have been \n",
      "예측 요약 :  dutt biopic on dutt biopic\n",
      "\n",
      "\n",
      "원문 : talking becoming consumer goods maker online co founder kumar recent interview said want completely move private firm two three years adding customers towards private kumar also said invest private towards \n",
      "실제 요약 : want to be private firm in yrs founder \n",
      "예측 요약 :  will not be to be founder\n",
      "\n",
      "\n",
      "원문 : canadian electric power set pilot project using tesla home smart power project serve houses users test run expected go live february end last \n",
      "실제 요약 : tesla for power in canada \n",
      "예측 요약 :  british city project to build solar city\n",
      "\n",
      "\n",
      "원문 : indian cricket captain virat kohli wife actress anushka sharma held wedding st mumbai tuesday sports ms dhoni virender sehwag sunil anil spotted bollywood celebrities including aditya roy sara ali khan also attended \n",
      "실제 요약 : virat anushka host their wedding in mumbai \n",
      "예측 요약 :  virat anushka virat anushka sharma wedding\n",
      "\n",
      "\n",
      "원문 : delhi club tuesday apologised asked woman leave premises sunday clothes wore dress management apologised club member brought reportedly ordered action staff members \n",
      "실제 요약 : club apologises for entry to woman \n",
      "예측 요약 :  delhi apologises for to woman\n",
      "\n",
      "\n",
      "원문 : shiv sena leader arvind saturday said people looking one side air india sena mp issue person known behaviour say even one speaking added \n",
      "실제 요약 : people at one of shiv sena on row \n",
      "예측 요약 :  shiv sena calls for air india\n",
      "\n",
      "\n",
      "원문 : house arm snapdeal express likely form part ongoing merger talks flipkart snapdeal final terms deal decide whether flipkart arm continue separate express snapdeal \n",
      "실제 요약 : may be part of flipkart snapdeal merger deal \n",
      "예측 요약 :  snapdeal to snapdeal snapdeal merger with tata\n",
      "\n",
      "\n",
      "원문 : uk facing ever terrorist threat fresh attacks country country domestic intelligence chief warned threat becoming united victory developing country online also overseas chief added \n",
      "실제 요약 : uk most terror threat ever \n",
      "예측 요약 :  uk calls for terror attack\n",
      "\n",
      "\n",
      "원문 : girl detained iranian authorities breaking posting videos dancing instagram said followers account suspended reported lakh followers \n",
      "실제 요약 : iran over instagram of her \n",
      "예측 요약 :  girl detained for on instagram\n",
      "\n",
      "\n",
      "원문 : three personnel suspended year old woman claimed inside camp one raped alleged accused assault threatened release video social media complained local police informed incident fir registered \n",
      "실제 요약 : three men suspended after woman rape at \n",
      "예측 요약 :  woman suspended for rape victim\n",
      "\n",
      "\n",
      "원문 : windies cricketer chris said details recently case bid interview starting almost crore year old tweeted successful story tell interview next book \n",
      "실제 요약 : cr to sell \n",
      "예측 요약 :  shami is not worth crore\n",
      "\n",
      "\n",
      "원문 : india agreed ocean economy achieve global development goals pm three day state visit central role united nations global peace security pm narendra modi need international organisation \n",
      "실제 요약 : india to on economy \n",
      "예측 요약 :  india growth to in\n",
      "\n",
      "\n",
      "원문 : north korea south korea agreed march together korea flag upcoming winter olympic games south korea decision official talks two nations two years nations also agreed send women hockey team games \n",
      "실제 요약 : north south korea to march under flag at olympics \n",
      "예측 요약 :  north korea to hold olympics on korea\n",
      "\n",
      "\n",
      "원문 : co director speaking controversy involving film said kangana told version looking like film wanted way added said know kangana well taking first credit \n",
      "실제 요약 : kangana said my like film \n",
      "예측 요약 :  director said he would like\n",
      "\n",
      "\n",
      "원문 : shared game season new video released video shows played half sister reportedly meet video also features footage got previous season upcoming series \n",
      "실제 요약 : offers st of game of in new video \n",
      "예측 요약 :  watch video game of the year\n",
      "\n",
      "\n",
      "원문 : talking apple ceo cook said something around web also said services track personal lives privacy apple could make money customers added \n",
      "실제 요약 : it is when is me on apple ceo \n",
      "예측 요약 :  apple ceo cook\n",
      "\n",
      "\n",
      "원문 : us based startup ai founded ex google employees claims tech job using artificial intelligence startup matches data like personal ai says system least one interview job \n",
      "실제 요약 : ex google employees startup uses ai to get job \n",
      "예측 요약 :  startup working on ai to work ai\n",
      "\n",
      "\n",
      "원문 : sun industries founder managing director said involved trading violation deal minor technical issue trading said case without matter closed added \n",
      "실제 요약 : was not in on deal \n",
      "예측 요약 :  we are not to be\n",
      "\n",
      "\n",
      "원문 : idea wednesday posted biggest ever loss crore fifth consecutive loss idea revenue crore due telecom regulator decision reduce charges half notably idea merger india expected completed first half year \n",
      "실제 요약 : idea posts biggest ever loss of crore \n",
      "예측 요약 :  idea posts crore loss in june\n",
      "\n",
      "\n",
      "원문 : release mumbai attacks shows pakistan wants terror indian ministry external affairs spokesperson kumar said thursday pakistan changed policy supporting non state actors true face see added \n",
      "실제 요약 : release pak attempt to terrorists india \n",
      "예측 요약 :  to pak to pak\n",
      "\n",
      "\n",
      "원문 : man identified drug called police report stolen vehicle us police said police officers found drugs drug david car later arrested charged arrest \n",
      "실제 요약 : drug calls police to report stolen \n",
      "예측 요약 :  drug drugs worth drugs drugs in us\n",
      "\n",
      "\n",
      "원문 : year old woman allegedly raped uttar pradesh district police said wednesday case lodged accused son launched accused worked haryana police added woman allegedly raped september police said \n",
      "실제 요약 : year old woman raped by in uttar pradesh \n",
      "예측 요약 :  raped by police raped by police\n",
      "\n",
      "\n",
      "원문 : former prime minister charged money laundering wednesday anti corruption commission said arrested last month charged abuse power criminal breach trust accused million state run wealth fund personal bank accounts \n",
      "실제 요약 : former pm to be charged for money \n",
      "예측 요약 :  former pm singh in corruption case\n",
      "\n",
      "\n",
      "원문 : finance minister arun jaitley thursday said gst rates continue next two years speaking th asia summit singapore said number increased lakh gst regime added net tax revenue pre gst level \n",
      "실제 요약 : gst will to over next yrs jaitley \n",
      "예측 요약 :  gst to be in years fm\n",
      "\n",
      "\n",
      "원문 : private school teacher uttar pradesh lucknow caught camera class student times responding call child said call teacher later apologised child parents filed fir \n",
      "실제 요약 : class boy times for not to call \n",
      "예측 요약 :  teacher school teacher to student\n",
      "\n",
      "\n",
      "원문 : us based startup developed smart plant water plant water present app also water level running low user \n",
      "실제 요약 : smart plant that made at \n",
      "예측 요약 :  startup makes water that can water\n",
      "\n",
      "\n",
      "원문 : former said fighter made mistake fight using rules going get killed put position get life since baby added \n",
      "실제 요약 : will get killed in fight \n",
      "예측 요약 :  used to fight on\n",
      "\n",
      "\n",
      "원문 : us president donald trump said sending message campaign featuring player national protest think message sent reason added however trump said right express \n",
      "실제 요약 : trump on brand new campaign \n",
      "예측 요약 :  trump calls for\n",
      "\n",
      "\n",
      "원문 : managed catch six stands without using hands big league match thursday fan standing near ball hit steve got stuck th team \n",
      "실제 요약 : catch in without using his hands \n",
      "예측 요약 :  player takes catch while trying to save\n",
      "\n",
      "\n",
      "원문 : team east india kolkata riders nearly km among teams play matches ipl delhi least among teams nearly km rising pune travel less km due pune like mumbai hyderabad \n",
      "실제 요약 : how much have the ipl for the \n",
      "예측 요약 :  india win at ipl\n",
      "\n",
      "\n",
      "원문 : congress recently shared pictures gandhi via instagram account captioned gandhi captured rajiv gandhi italian born met husband rajiv english england student university \n",
      "실제 요약 : congress shares pictures of sonia gandhi by gandhi \n",
      "예측 요약 :  shares pic with late pm for her\n",
      "\n",
      "\n"
     ]
    }
   ],
   "source": [
    "# 테스트 데이터 약 50개의 샘플에 대해서 실제 요약과 예측된 요약을 비교\n",
    "for i in range(50, 100):\n",
    "    print(\"원문 :\", seq2text(encoder_input_test[i]))\n",
    "    print(\"실제 요약 :\", seq2headlines(decoder_input_test[i]))\n",
    "    print(\"예측 요약 :\", decode_sequence(encoder_input_test[i].reshape(1, text_max_len)))\n",
    "    print(\"\\n\")"
   ]
  },
  {
   "cell_type": "markdown",
   "id": "ce69c2fb",
   "metadata": {},
   "source": [
    "## Step 5. Summa을 이용해서 추출적 요약해보기"
   ]
  },
  {
   "cell_type": "code",
   "execution_count": 94,
   "id": "43361e04",
   "metadata": {},
   "outputs": [],
   "source": [
    "import requests\n",
    "from summa.summarizer import summarize"
   ]
  },
  {
   "cell_type": "code",
   "execution_count": 95,
   "id": "dabf7a3b",
   "metadata": {
    "scrolled": true
   },
   "outputs": [
    {
     "name": "stdout",
     "output_type": "stream",
     "text": [
      "                                           headlines  \\\n",
      "0  upGrad learner switches to career in ML & Al w...   \n",
      "1  Delhi techie wins free food from Swiggy for on...   \n",
      "2  New Zealand end Rohit Sharma-led India's 12-ma...   \n",
      "3  Aegon life iTerm insurance plan helps customer...   \n",
      "4  Have known Hirani for yrs, what if MeToo claim...   \n",
      "\n",
      "                                                text  \n",
      "0  Saurav Kant, an alumnus of upGrad and IIIT-B's...  \n",
      "1  Kunal Shah's credit card bill payment platform...  \n",
      "2  New Zealand defeated India by 8 wickets in the...  \n",
      "3  With Aegon Life iTerm Insurance plan, customer...  \n",
      "4  Speaking about the sexual harassment allegatio...  \n"
     ]
    }
   ],
   "source": [
    "print(data.head())"
   ]
  },
  {
   "cell_type": "code",
   "execution_count": 96,
   "id": "db245eef",
   "metadata": {},
   "outputs": [],
   "source": [
    "# 지정된 URL에서 CSV 파일을 로컬에 다운로드\n",
    "urllib.request.urlretrieve(\n",
    "    \"https://raw.githubusercontent.com/sunnysai12345/News_Summary/master/news_summary_more.csv\",\n",
    "    filename=\"news_summary_more.csv\"\n",
    ")\n",
    "\n",
    "# 다운로드한 CSV 파일을 pandas 데이터프레임으로 읽어오기 (인코딩은 iso-8859-1 형식 사용)\n",
    "data = pd.read_csv('news_summary_more.csv', encoding='iso-8859-1')\n"
   ]
  },
  {
   "cell_type": "code",
   "execution_count": 97,
   "id": "b355a09d",
   "metadata": {},
   "outputs": [
    {
     "name": "stdout",
     "output_type": "stream",
     "text": [
      "원문 : Saurav Kant, an alumnus of upGrad and IIIT-B's PG Program in Machine learning and Artificial Intelligence, was a Sr Systems Engineer at Infosys with almost 5 years of work experience. The program and upGrad's 360-degree career support helped him transition to a Data Scientist at Tech Mahindra with 90% salary hike. upGrad's Online Power Learning has powered 3 lakh+ careers.\n",
      "실제 요약 : upGrad learner switches to career in ML & Al with 90% salary hike\n",
      "추출적 요약 : upGrad's Online Power Learning has powered 3 lakh+ careers.\n",
      "\n",
      "\n",
      "원문 : Kunal Shah's credit card bill payment platform, CRED, gave users a chance to win free food from Swiggy for one year. Pranav Kaushik, a Delhi techie, bagged this reward after spending 2000 CRED coins. Users get one CRED coin per rupee of bill paid, which can be used to avail rewards from brands like Ixigo, BookMyShow, UberEats, Cult.Fit and more.\n",
      "실제 요약 : Delhi techie wins free food from Swiggy for one year on CRED\n",
      "추출적 요약 : Users get one CRED coin per rupee of bill paid, which can be used to avail rewards from brands like Ixigo, BookMyShow, UberEats, Cult.Fit and more.\n",
      "\n",
      "\n",
      "원문 : New Zealand defeated India by 8 wickets in the fourth ODI at Hamilton on Thursday to win their first match of the five-match ODI series. India lost an international match under Rohit Sharma's captaincy after 12 consecutive victories dating back to March 2018. The match witnessed India getting all out for 92, their seventh lowest total in ODI cricket history.\n",
      "실제 요약 : New Zealand end Rohit Sharma-led India's 12-match winning streak\n",
      "추출적 요약 : The match witnessed India getting all out for 92, their seventh lowest total in ODI cricket history.\n",
      "\n",
      "\n",
      "원문 : With Aegon Life iTerm Insurance plan, customers can enjoy tax benefits on your premiums paid and save up to Ã¢ÂÂ¹46,800^ on taxes. The plan provides life cover up to the age of 100 years. Also, customers have options to insure against Critical Illnesses, Disability and Accidental Death Benefit Rider with a life cover up to the age of 80 years.\n",
      "실제 요약 : Aegon life iTerm insurance plan helps customers save tax\n",
      "추출적 요약 : Also, customers have options to insure against Critical Illnesses, Disability and Accidental Death Benefit Rider with a life cover up to the age of 80 years.\n",
      "\n",
      "\n",
      "원문 : Speaking about the sexual harassment allegations against Rajkumar Hirani, Sonam Kapoor said, \"I've known Hirani for many years...What if it's not true, the [#MeToo] movement will get derailed.\" \"In the #MeToo movement, I always believe a woman. But in this case, we need to reserve our judgment,\" she added. Hirani has been accused by an assistant who worked in 'Sanju'.\n",
      "실제 요약 : Have known Hirani for yrs, what if MeToo claims are not true: Sonam\n",
      "추출적 요약 : Speaking about the sexual harassment allegations against Rajkumar Hirani, Sonam Kapoor said, \"I've known Hirani for many years...What if it's not true, the [#MeToo] movement will get derailed.\" \"In the #MeToo movement, I always believe a woman.\n",
      "\n",
      "\n",
      "원문 : Pakistani singer Rahat Fateh Ali Khan has denied receiving any notice from the Enforcement Directorate over allegedly smuggling foreign currency out of India. \"It would have been better if the authorities would have served the notice first if any and then publicised this,\" reads a press release issued on behalf of Rahat. The statement further called the allegation \"bizarre\".\n",
      "실제 요약 : Rahat Fateh Ali Khan denies getting notice for smuggling currency\n",
      "추출적 요약 : Pakistani singer Rahat Fateh Ali Khan has denied receiving any notice from the Enforcement Directorate over allegedly smuggling foreign currency out of India.\n",
      "\n",
      "\n",
      "원문 : India recorded their lowest ODI total in New Zealand after getting all out for 92 runs in 30.5 overs in the fourth ODI at Hamilton on Thursday. Seven of India's batsmen were dismissed for single-digit scores, while their number ten batsman Yuzvendra Chahal top-scored with 18*(37). India's previous lowest ODI total in New Zealand was 108.\n",
      "실제 요약 : India get all out for 92, their lowest ODI total in New Zealand\n",
      "추출적 요약 : India's previous lowest ODI total in New Zealand was 108.\n",
      "\n",
      "\n",
      "원문 : Weeks after ex-CBI Director Alok Verma told the Department of Personnel and Training to consider him retired, the Home Ministry asked him to join work on the last day of his fixed tenure as Director on Thursday. The ministry directed him to immediately join as DG, Fire Services, the post he was transferred to after his removal as CBI chief.\n",
      "실제 요약 : Govt directs Alok Verma to join work 1 day before his retirement\n",
      "추출적 요약 : \n",
      "\n",
      "\n",
      "원문 : Andhra Pradesh CM N Chandrababu Naidu has said, \"When I met then US President Bill Clinton, I addressed him as Mr Clinton, not as 'sir'. (PM Narendra) Modi is my junior in politics...I addressed him as sir 10 times.\" \"I did this...to satisfy his ego in the hope that he will do justice to the state,\" he added.\n",
      "실제 요약 : Called PM Modi 'sir' 10 times to satisfy his ego: Andhra CM\n",
      "추출적 요약 : \n",
      "\n",
      "\n",
      "원문 : Congress candidate Shafia Zubair won the Ramgarh Assembly seat in Rajasthan, by defeating BJP's Sukhwant Singh with a margin of 12,228 votes in the bypoll. With this victory, Congress has taken its total to 100 seats in the 200-member assembly. The election to the Ramgarh seat was delayed due to the death of sitting MLA and BSP candidate Laxman Singh.\n",
      "실제 요약 : Cong wins Ramgarh bypoll in Rajasthan, takes total to 100 seats\n",
      "추출적 요약 : Congress candidate Shafia Zubair won the Ramgarh Assembly seat in Rajasthan, by defeating BJP's Sukhwant Singh with a margin of 12,228 votes in the bypoll.\n",
      "\n",
      "\n",
      "원문 : Two minor cousins in Uttar Pradesh's Gorakhpur were allegedly repeatedly burnt with tongs and forced to eat human excreta by their family for being friends with two boys from the same school. The cousins revealed their ordeal to the police and Child Welfare Committee after being brought back to Gorakhpur from Nepal, where they had fled to escape the torture.\n",
      "실제 요약 : UP cousins fed human excreta for friendship with boys\n",
      "추출적 요약 : \n",
      "\n",
      "\n",
      "원문 : Isha Ghosh, an 81-year-old member of Bharat Scouts and Guides (BSG), has been imparting physical and mental training to schoolchildren in Jharkhand for several decades. Chaibasa-based Ghosh reportedly walks seven kilometres daily and spends eight hours conducting physical training, apart from climbing and yoga sessions. She says, \"One should do something for society till one's last breath.\"\n",
      "실제 요약 : 81-yr-old woman conducts physical training in J'khand schools\n",
      "추출적 요약 : Isha Ghosh, an 81-year-old member of Bharat Scouts and Guides (BSG), has been imparting physical and mental training to schoolchildren in Jharkhand for several decades.\n",
      "\n",
      "\n",
      "원문 : Urging saints and seers at the Kumbh Mela to quit smoking, Yoga guru Ramdev said, \"We follow Ram and Krishna who never smoked in their life then why should we?\" Making them take a pledge to quit tobacco, he collected chillum (clay pipe) from several sadhus. He said he will deposit the chillums for display at a museum he'll build.\n",
      "실제 요약 : Ram, Krishna didn't smoke, why should we: Ramdev to sadhus at Kumbh\n",
      "추출적 요약 : \n",
      "\n",
      "\n",
      "원문 : Former stripper and regional sales director of a pharmaceutical company, Sunrise Lee, gave a doctor a lap dance in a nightclub to persuade him to prescribe an addictive fentanyl spray in 2012, the company's sales representative told a US court. She said she saw Lee \"sitting on [doctor's] lap, kind of bouncing around.\" Lee has been accused of bribing doctors.\n",
      "실제 요약 : Pharma exec gave doctor a lap dance to sell medicine in US: Witness\n",
      "추출적 요약 : \n",
      "\n",
      "\n",
      "원문 : Reliance Industries' Chairman Mukesh Ambani's daughter Isha Ambani, who got married last month, said she only cried at her 'bidaai' because she felt peer pressure as everyone was crying, especially her parents. \"I was emotional too but everyone around me would cry all the time,\" she added. \"It was a very emotional affair for everyone in my family,\" said Isha.\n",
      "실제 요약 :  I only cried at my 'bidaai' as I felt peer pressure: Isha Ambani\n",
      "추출적 요약 : \"It was a very emotional affair for everyone in my family,\" said Isha.\n",
      "\n",
      "\n",
      "원문 : Louis Vuitton owner LVMH, which makes high-end beverages like MoÃÂ«t & Chandon champagne and Hennessy cognac, said it's stockpiling four months' worth of wine and spirits in UK in preparation for Brexit. \"We're ready for worst case scenario if there are difficulties with deliveries,\" the French luxury giant said. The UK is scheduled to leave the EU on March 29.\n",
      "실제 요약 : Louis Vuitton owner to stockpile 4 months of wine, spirits in UK\n",
      "추출적 요약 : Louis Vuitton owner LVMH, which makes high-end beverages like MoÃÂ«t & Chandon champagne and Hennessy cognac, said it's stockpiling four months' worth of wine and spirits in UK in preparation for Brexit.\n",
      "\n",
      "\n",
      "원문 : Filmmaker Karan Johar and actress Tabu turned showstoppers for Gaurav Gupta on the opening night of LakmÃÂ© Fashion Week Summer/ Resort 2019. While Johar wore a red sequinned jacket with black pants, Tabu walked the ramp in a grey embellished gown. The fashion show, which began on January 29, will continue till February 3.\n",
      "실제 요약 : Karan Johar, Tabu turn showstoppers on opening night of LFW\n",
      "추출적 요약 : Filmmaker Karan Johar and actress Tabu turned showstoppers for Gaurav Gupta on the opening night of LakmÃÂ© Fashion Week Summer/ Resort 2019.\n",
      "\n",
      "\n",
      "원문 : In a jibe at Congress President Rahul Gandhi, PM Narendra Modi on Wednesday said those on \"bail will have to go to jail.\" PM Modi added, \"He is out on bail and his associates too are facing charges...I know they will be convicted one day.\" The PM claimed he'd waged a war on corruption because he's from a common household. \n",
      "실제 요약 : Those on bail will go to jail: PM Modi takes jibe at Rahul\n",
      "추출적 요약 : \n",
      "\n",
      "\n",
      "원문 : Days after he threatened to step down from his post if Congress MLAs continue \"crossing the line,\" Karnataka Chief Minister HD Kumaraswamy accused them of taking potshots and asked, \"How many more days can I tolerate such stuff?\" Kumaraswamy, who made the statements after a Congress MLA demanded that Siddaramaiah be made CM again, said, \"Power is ephemeral.\"\n",
      "실제 요약 : How long can I tolerate Congress leaders' potshots: K'taka CM\n",
      "추출적 요약 : \n",
      "\n",
      "\n",
      "원문 : Union Minister Dharmendra Pradhan on Wednesday claimed the illegal mining mafia in Odisha operates under the control of CM Naveen Patnaik and state Congress chief Niranjan Patnaik. He added, \"The time has come for the people of Odisha to put a full stop to their activities...The time has come for us to ask for an explanation from this corrupt government.\"\n",
      "실제 요약 : Odisha CM Patnaik controls mining mafia: Union Minister\n",
      "추출적 요약 : \n",
      "\n",
      "\n",
      "원문 : Claiming there is a dearth of ideas among opposition parties, Prime Minister Narendra Modi on Wednesday said, \"The opposition talks only about Modi the whole day, I suspect they even dream about me.\" PM Modi, who was addressing the New India Youth Conclave inÃ¢ÂÂ Surat, added that the opposition parties have only one agenda which is \"Modi\". \n",
      "실제 요약 : I think the opposition even dreams about me: PM Modi\n",
      "추출적 요약 : \n",
      "\n",
      "\n",
      "원문 : The Indian Space Research Organisation on Wednesday unveiled Human Space Flight Centre in Bengaluru for its Ã¢ÂÂ¹10,000-crore manned space mission 'Gaganyaan' scheduled for 2021. ISRO said the centre will be responsible for development of engineering systems for crew survival in space and crew selection and training. It'll also pursue activities for sustained human space flight missions, ISRO added.\n",
      "실제 요약 : ISRO unveils Bengaluru centre for manned space mission \n",
      "추출적 요약 : It'll also pursue activities for sustained human space flight missions, ISRO added.\n",
      "\n",
      "\n",
      "원문 : At least 12 people have been killed and 170 others have been injured in Saudi Arabia this week due to flooding from heavy rain. The emergency services rescued 271 people from the flooded areas, more than half of them in Tabuk. Heavy rains hit mainly western and northwestern parts of Saudi Arabia, near its border with Jordan.\n",
      "실제 요약 : 12 killed, 170 injured in Saudi Arabia floods\n",
      "추출적 요약 : At least 12 people have been killed and 170 others have been injured in Saudi Arabia this week due to flooding from heavy rain.\n",
      "\n",
      "\n",
      "원문 : Reliance Industries' Chairman Mukesh Ambani's daughter Isha Ambani has featured on the cover of the February edition of Vogue India. She's dressed in a white shirt dress and black ruffled skirt by Australian designer Toni Maticevski, while accessorising her look with a Misho ring. In the cover story on her, Isha has spoken about her work and life after marriage.\n",
      " \n",
      "실제 요약 : Isha Ambani features on February cover of Vogue magazine\n",
      "추출적 요약 : Reliance Industries' Chairman Mukesh Ambani's daughter Isha Ambani has featured on the cover of the February edition of Vogue India.\n",
      "\n",
      "\n",
      "원문 : Indian Oil Corporation on Wednesday said it's looking for an annual deal to buy US crude as it seeks to broaden oil purchasing options. This comes amid uncertainties over Iran imports. The US had in November granted a six-month waiver to India from sanctions against Iran and restricted the country's monthly intake of Iranian oil to 3,00,000 barrels per day.\n",
      "\n",
      "\n",
      "실제 요약 : Indian Oil looking for annual deal to buy crude from US\n",
      "추출적 요약 : The US had in November granted a six-month waiver to India from sanctions against Iran and restricted the country's monthly intake of Iranian oil to 3,00,000 barrels per day.\n",
      "\n",
      "\n",
      "원문 : Former Windies fast bowler Curtly Ambrose dismissed seven Australian batsmen within a span of 32 balls giving away just one run, in a Test match on January 30, 1993. Ambrose's spell helped his team bowl out Australia for 119 in the first innings, after being 85 for 2 at one point. Ambrose ended with first-innings figures of 18-9-25-7.\n",
      "실제 요약 : Pacer once took 7 wickets for just 1 run in 32 balls in a Test\n",
      "추출적 요약 : Ambrose ended with first-innings figures of 18-9-25-7.\n",
      "\n",
      "\n",
      "원문 : A London zoo is offering people to name a cockroach after their exes on Valentine's Day for ÃÂ£1.50 (nearly Ã¢ÂÂ¹140). \"For those that don't quite require revenge, there's another way to make you feel better about getting back at your ex,\" the zoo said in a statement. The names will appear on zoo's 'roach board' on February 14. \n",
      "실제 요약 : UK zoo offers people to name cockroach after their ex on Valentine's\n",
      "추출적 요약 : The names will appear on zoo's 'roach board' on February 14.\n",
      "\n",
      "\n",
      "원문 : Stand-in captain Rohit Sharma has become the 14th Indian cricketer to play 200 ODIs, achieving the feat after taking the field against New Zealand in fourth ODI at Hamilton on Thursday. The 31-year-old had made his ODI debut on June 23, 2007, against Ireland in Belfast. Rohit scored 7,799 runs in his first 199 ODIs at an average of 48.14.\n",
      "실제 요약 : Rohit Sharma becomes 14th Indian cricketer to play 200 ODIs\n",
      "추출적 요약 : Rohit scored 7,799 runs in his first 199 ODIs at an average of 48.14.\n",
      "\n",
      "\n",
      "원문 : Batsman Shubman Gill has become the 227th cricketer to represent India in ODI cricket, achieving the feat against New Zealand in the fourth ODI at Hamilton on Thursday. The 19-year-old received his maiden ODI cap from former captain MS Dhoni. Notably, Shubman was named Player of the Under-19 World Cup in New Zealand last year.\n",
      "실제 요약 : 19-year-old Shubman Gill becomes India's 227th ODI cricketer\n",
      "추출적 요약 : Notably, Shubman was named Player of the Under-19 World Cup in New Zealand last year.\n",
      "\n",
      "\n",
      "원문 : Investigators searching for a lost plane carrying Argentine forward Emiliano Sala found two seat cushions on French coast that \"likely\" belonged to the aircraft. The investigators said they'll now launch an underwater seabed search for aircraft wreckage. The Cardiff City footballer was travelling from France's Nantes to Wales' Cardiff when his plane disappeared over English Channel on January 21.\n",
      "실제 요약 : 2 seat cushions from 'missing plane carrying footballer' found\n",
      "추출적 요약 : Investigators searching for a lost plane carrying Argentine forward Emiliano Sala found two seat cushions on French coast that \"likely\" belonged to the aircraft.\n",
      "\n",
      "\n",
      "원문 : Italian third division football side Lucchese's head coach Giancarlo Favarin has been banned for five months for headbutting Alessandria's assistant coach Gaetano Mancino during a brawl following the teams' 2-2 draw on Sunday. Mancino was caught off-balance and knocked to the ground after the headbutt. Earlier in the match, Favarin had told his own player to break an opponent's legs.\n",
      "실제 요약 : Italian coach knocks rival down with headbutt, banned for 5 months\n",
      "추출적 요약 : Italian third division football side Lucchese's head coach Giancarlo Favarin has been banned for five months for headbutting Alessandria's assistant coach Gaetano Mancino during a brawl following the teams' 2-2 draw on Sunday.\n",
      "\n",
      "\n",
      "원문 : Cyclists taking part in National Track Cycling Championship in Jaipur opted to sleep on the floor inside the stadium instead of hotels over expensive cycles. The organisers had booked hotels but they didn't have the provision for cyclists to keep their bikes inside. A national gold medallist said their cycles cost between Ã¢ÂÂ¹5-9 lakh and once damaged, they become non-repairable. \n",
      "실제 요약 : Cyclists sleep on stadium floor instead of hotel over costly cycles\n",
      "추출적 요약 : Cyclists taking part in National Track Cycling Championship in Jaipur opted to sleep on the floor inside the stadium instead of hotels over expensive cycles.\n",
      "\n",
      "\n",
      "원문 : Silvia Grecco, a 56-year-old Brazilian mother narrates her local football team Palmeiras' matches live to her 12-year-old blind and autistic son Nickollas from the stands. \"I describe details: this player is wearing short sleeves...colour of...football boots, hair colour...Everything I see and feel, I tell him, even when I need to curse the referee!\" Grecco said after a recent match.\n",
      "실제 요약 : Brazilian mother narrates football matches to blind son from stands\n",
      "추출적 요약 : \n",
      "\n",
      "\n",
      "원문 : A TechCrunch report has claimed that IndiaÃ¢ÂÂs largest bank SBI secured a passwordless server \"overnight\" on being alerted it allowed anyone to access phone numbers, bank balances, and transactions of millions of its customers. The Mumbai-based server was containing two months of data from SBI Quick, an SMS and call-based system used to request basic information about accounts, TechCrunch revealed.\n",
      "실제 요약 : SBI left account data of millions of users unprotected: Report\n",
      "추출적 요약 : \n",
      "\n",
      "\n",
      "원문 : Rahul Gandhi has replied to Goa CM Manohar Parrikar's letter, which accused the Congress President of using his \"visit to an ailing man for political gains\". \"He's under immense pressure from the PM after our meeting and needs to demonstrate his loyalty by attacking me,\" Gandhi wrote in his letter. Parrikar had clarified he didn't discuss Rafale deal with Rahul.\n",
      "실제 요약 : CM Parrikar under pressure from PM after our Goa meet: Rahul\n",
      "추출적 요약 : Rahul Gandhi has replied to Goa CM Manohar Parrikar's letter, which accused the Congress President of using his \"visit to an ailing man for political gains\".\n",
      "\n",
      "\n",
      "원문 : Twenty-seven-year-old Mohammed Mahuwala was arrested in Indore on Wednesday for allegedly cheating e-commerce giant Amazon of nearly Ã¢ÂÂ¹30 lakh. Mahuwala was a member of a gang who ordered costly gadgets from Amazon. \"[They] used to get refund of the amount paid...by saying the parcel...was empty. In reality, these devices were taken out from parcel and sold...to local shopkeepers,\" said police.\n",
      "실제 요약 : Man arrested for cheating Amazon of Ã¢ÂÂ¹30 lakh by taking refunds\n",
      "추출적 요약 : Mahuwala was a member of a gang who ordered costly gadgets from Amazon.\n",
      "\n",
      "\n",
      "원문 : AgustaWestland chopper scam co-accused Rajiv Saxena was extradited to India from UAE on Wednesday. He had been evading the Enforcement Directorate's summons claiming he was suffering from leukaemia but had moved an anti-money laundering court for anticipatory bail in December, stating he had never been summoned at his Dubai address. Saxena's lawyers alleged he had been \"illegally extradited\". \n",
      "실제 요약 : AgustaWestland scam accused Rajiv Saxena extradited to India\n",
      "추출적 요약 : AgustaWestland chopper scam co-accused Rajiv Saxena was extradited to India from UAE on Wednesday.\n",
      "\n",
      "\n",
      "원문 : Afghan President Ashraf Ghani has said the \"keys to war\" are in Pakistan's Islamabad, Quetta and Rawalpindi, accusing the country of providing safe havens to militants, including those belonging to the Taliban. Ghani added the \"key to peace was in Afghanistan\". His comments came amid the talks between the US and the Taliban to end the 17-year war in Afghanistan.\n",
      "실제 요약 : Pakistan holds 'keys to war': Afghanistan\n",
      "추출적 요약 : Afghan President Ashraf Ghani has said the \"keys to war\" are in Pakistan's Islamabad, Quetta and Rawalpindi, accusing the country of providing safe havens to militants, including those belonging to the Taliban.\n",
      "\n",
      "\n",
      "원문 : A Singapore-based insurance agent has been jailed for two years and five months for threatening to harm his clients unless they paid him in bitcoins. The 36-year-old set up an email account, and signed the messages as 'Lord Voldemort', a fictional character from the Harry Potter series. Ye Lin Myint targeted about 33 people, including those who cancelled insurance policies.\n",
      "실제 요약 : Insurance agent 'Lord Voldemort' jailed for threatening clients\n",
      "추출적 요약 : A Singapore-based insurance agent has been jailed for two years and five months for threatening to harm his clients unless they paid him in bitcoins.\n",
      "\n",
      "\n",
      "원문 : Gabrielle Reilly, a 22-year-old US woman, created earrings for her Apple AirPods and put it up for sale online for $20 (about Ã¢ÂÂ¹1,500). \"I absolutely refuse to lose them (AirPods)...So I made earrings,\" she explained. The earrings, which took her over an hour to make, debuted in a video on Twitter that has since garnered over three million views.\n",
      "실제 요약 : Woman turns Apple AirPods into earrings to avoid losing them\n",
      "추출적 요약 : \"I absolutely refuse to lose them (AirPods)...So I made earrings,\" she explained.\n",
      "\n",
      "\n",
      "원문 : Ex-ICICI Bank CEO Chanda Kochhar said she's \"utterly disappointed, hurt and shocked\" by the bank's decision to terminate her. Kochhar said she served ICICI for 34 years with utmost honesty and integrity and that ultimately truth will prevail. Adding that she hasn't been given a copy of the independent probe report, Kochhar said none of ICICI's credit decisions are unilateral\n",
      "실제 요약 : Shocked, hurt by ICICI's decision, truth will prevail: Kochhar\n",
      "추출적 요약 : Adding that she hasn't been given a copy of the independent probe report, Kochhar said none of ICICI's credit decisions are unilateral\n",
      "\n",
      "\n",
      "원문 : Swedish multinational fast-fashion brand Hennes & Mauritz AB (H&M) has hired Christopher Wylie, the whistleblower who exposed Facebook's Cambridge Analytica data scandal. WylieÃ¢ÂÂs focus will be to help get better insights on customers, products and markets and support work on sustainable and ethical artificial intelligence, H&M spokesperson said. Wylie is a former employee of Cambridge Analytica.\n",
      "실제 요약 : Fashion brand H&M hires Facebook data scandal whistleblower\n",
      "추출적 요약 : Swedish multinational fast-fashion brand Hennes & Mauritz AB (H&M) has hired Christopher Wylie, the whistleblower who exposed Facebook's Cambridge Analytica data scandal.\n",
      "\n",
      "\n",
      "원문 : Micro-blogging platform Twitter is testing a new feature on Android to put news on the top of a user's timeline. \"With this update, weÃ¢ÂÂre making it easier for people to see news and stories their followers have been discussing,\" Product Manager Walter Gurzynski said. The feature comes alongside a prompt saying, \"Catch up on what's happened while you were away.\"\n",
      "실제 요약 : Twitter testing news-first timeline feature on Android\n",
      "추출적 요약 : Micro-blogging platform Twitter is testing a new feature on Android to put news on the top of a user's timeline.\n",
      "\n",
      "\n",
      "원문 : Samsung has started mass producing its one terabyte 'embedded Universal Flash Storage (eUFS) 2.1' technology for \"use in next-generation mobile applications\", which it claims is the industry's first such eUFS. The company added the new eUFS will let smartphones store 260 10-minute videos shot in 4K UHD format. It'll be sized the same as the previous 512GB version, Samsung said.\n",
      "실제 요약 : Samsung builds world's first 1TB storage chip for smartphones \n",
      "추출적 요약 : Samsung has started mass producing its one terabyte 'embedded Universal Flash Storage (eUFS) 2.1' technology for \"use in next-generation mobile applications\", which it claims is the industry's first such eUFS.\n",
      "\n",
      "\n",
      "원문 : Prime Minister Narendra Modi on Wednesday said the people with 'negative mindset' are questioning him and his government for floating pro-poor schemes. He added negative mindset people are raising doubts about schemes such as building toilets and providing free gas connections to the poor. He further said that negative mentality laced with a vested interest still exists in the country.\n",
      "실제 요약 : People with 'negative mindset' quizzing pro-poor schemes: PM\n",
      "추출적 요약 : Prime Minister Narendra Modi on Wednesday said the people with 'negative mindset' are questioning him and his government for floating pro-poor schemes.\n",
      "\n",
      "\n",
      "원문 : Union Minister Anantkumar Hegde took a dig at Congress President Rahul Gandhi by calling him a \"hybrid specimen\" who has no clue about religion. \"A father who's...Muslim, a mother who's...Christian and the son is supposed to be...Brahmin. How is that even possible?\" he said. He added such \"hybrid specimen\" cannot be found in any laboratory in the world.\n",
      "실제 요약 : Rahul is hybrid specimen, has no clue about religion: Hegde\n",
      "추출적 요약 : Union Minister Anantkumar Hegde took a dig at Congress President Rahul Gandhi by calling him a \"hybrid specimen\" who has no clue about religion.\n",
      "\n",
      "\n",
      "원문 : Several parts of the US are set to experience record low temperatures as the polar vortex hit the Upper Midwest, with more than 200 million people expected to experience below-freezing temperatures this week. Temperatures throughout the Upper Midwest are expected to be at least 20-40Ã¢ÂÂ below zero. Government offices and schools have been closed in several areas.\n",
      "실제 요약 : Extreme cold to affect 200 million people as polar vortex hits US\n",
      "추출적 요약 : Several parts of the US are set to experience record low temperatures as the polar vortex hit the Upper Midwest, with more than 200 million people expected to experience below-freezing temperatures this week.\n",
      "\n",
      "\n",
      "원문 : The police on Wednesday registered cases against 13 persons, including a woman leader of Hindu Mahasabha, in Aligarh for firing at an effigy of Mahatma Gandhi with an air pistol. \"The incident took place in a house in Naurangabad locality of the city,\" Senior Superintendent of Police said. The video of the event went viral on social media, he added.\n",
      "실제 요약 : 13 booked for firing air shots at Mahatma Gandhi's effigy\n",
      "추출적 요약 : The police on Wednesday registered cases against 13 persons, including a woman leader of Hindu Mahasabha, in Aligarh for firing at an effigy of Mahatma Gandhi with an air pistol.\n",
      "\n",
      "\n",
      "원문 : Railway police has rescued a woman travelling on a train in Chennai who got her leg stuck inside the commode of a toilet. After being caught inside the commode hole, she struggled to remove her leg and following failed attempts, she shouted for help, reports said. Railway police used a cutter to pry open the commode and freed her leg.\n",
      "실제 요약 : Railway police rescues woman with leg stuck in train toilet\n",
      "추출적 요약 : Railway police has rescued a woman travelling on a train in Chennai who got her leg stuck inside the commode of a toilet.\n",
      "\n",
      "\n",
      "원문 : The US on Tuesday began returning asylum seekers to Mexico, sending back a migrant from a Central American nation and called the move a \"response to the illegal migration crisis\" faced by it. Under its Migrant Protection Protocols policy, the US will return certain migrants who cross into the country illegally back to Mexico while their asylum requests are processed.\n",
      "실제 요약 : US begins sending back asylum seekers to Mexico\n",
      "추출적 요약 : \n",
      "\n",
      "\n"
     ]
    }
   ],
   "source": [
    "# 데이터프레임에서 헤드라인과 텍스트 데이터를 순회하며 요약을 출력\n",
    "for idx, (head, text) in enumerate(zip(data['headlines'], data['text'])):\n",
    "    if idx == 50:  # 인덱스가 50이면 반복 종료 (처음 50개만 처리)\n",
    "        break\n",
    "    print(\"원문 :\", text)  # 원문 출력\n",
    "    print(\"실제 요약 :\", head)  # 실제 헤드라인 (요약) 출력\n",
    "    print(\"추출적 요약 :\", summarize(text, ratio=0.35))  # 추출적 요약 결과 출력 (원문의 35%로 요약)\n",
    "    print(\"\\n\")  # 각 기사 사이에 줄바꿈 추가\n"
   ]
  },
  {
   "cell_type": "markdown",
   "id": "07cde6f1",
   "metadata": {},
   "source": [
    "## 회고\n",
    "```\n",
    "이동수\n",
    "API 환경 구축 및 플러터에 접목 시키는 것에 생소한 부분이 너무 많았다. 좋았던 점은 모르지만 일단 부딪치면서 해본것이 도움이 된 것 같다. 반대로 아는게 없어 제대로 만드는 부분이 없었다는 생각이 들어 그 부분은 아쉬웠다. 많은 부분들을 이해하고 노하우가 생겨야 더욱 잘 될 수 있을 것 같다.\n",
    "\n",
    "김승기\n",
    "이전 노드에서 구성한 코드를 바탕으로 새 데이터셋에 적용하였다.\n",
    "목표는 원문 text의 주요 키워드는 담아내면서 문맥을 잘 나타내는 요약문을 생성하는 모델을 작성하는 것이다.\n",
    "새 데이터의 특성에 따라 제한할 단어 수를 조절하고\n",
    "옵티마이저와 드롭아웃 계수를 변경하면서\n",
    "val_loss를 줄여보려고 했다.\n",
    "생각만큼 효과는 잘 나오지 않았다.\n",
    "시간만 더 주어진다면 여러 개선방안을 적용해볼 수 있을것이다.\n",
    "LSTM모델을 트랜스포머 모델로 변경하거나\n",
    "데이터 전처리 부분에서 너무 많은 불용어를 제거한거같아 불용어 제거 옵션을 꺼뜨린다거나\n",
    "희소단어 어휘처리라던지 고려할 부분은 많다.\n",
    "\n",
    "김지혜\n",
    "노드를 따라 모델은 어찌어찌 구축해 보았지만, 플러터를 이용해서 앱으로 구현하는 흐름이 ... 딱 이 방법만 있는 것은 아닌 것 같기에... 확신이 없으니 정립이 안되는 거 같다.\n",
    "```"
   ]
  }
 ],
 "metadata": {
  "kernelspec": {
   "display_name": "Python 3 (ipykernel)",
   "language": "python",
   "name": "python3"
  },
  "language_info": {
   "codemirror_mode": {
    "name": "ipython",
    "version": 3
   },
   "file_extension": ".py",
   "mimetype": "text/x-python",
   "name": "python",
   "nbconvert_exporter": "python",
   "pygments_lexer": "ipython3",
   "version": "3.9.7"
  }
 },
 "nbformat": 4,
 "nbformat_minor": 5
}
